{
  "cells": [
    {
      "cell_type": "markdown",
      "metadata": {
        "id": "view-in-github",
        "colab_type": "text"
      },
      "source": [
        "<a href=\"https://colab.research.google.com/github/sda96/AIFFEL_3rd_hackerton_TUNiB_DKTC/blob/main/notebook/ChangHyun/last_experiment.ipynb\" target=\"_parent\"><img src=\"https://colab.research.google.com/assets/colab-badge.svg\" alt=\"Open In Colab\"/></a>"
      ]
    },
    {
      "cell_type": "markdown",
      "source": [
        "## 1. 환경 설정"
      ],
      "metadata": {
        "id": "YcMjKvuQWOHK"
      },
      "id": "YcMjKvuQWOHK"
    },
    {
      "cell_type": "markdown",
      "source": [
        "필요한 패키지 불러오기"
      ],
      "metadata": {
        "id": "mclJrkru5cSV"
      },
      "id": "mclJrkru5cSV"
    },
    {
      "cell_type": "code",
      "source": [
        "!pip install transformers\n",
        "!pip install sentencepiece\n",
        "!pip install konlpy\n",
        "!pip install transformers-interpret"
      ],
      "metadata": {
        "id": "g01yla0190IH"
      },
      "id": "g01yla0190IH",
      "execution_count": null,
      "outputs": []
    },
    {
      "cell_type": "markdown",
      "source": [
        "matplotlib 한글 깨짐 해결"
      ],
      "metadata": {
        "id": "CN4hwQ3E7zuJ"
      },
      "id": "CN4hwQ3E7zuJ"
    },
    {
      "cell_type": "code",
      "source": [
        "!sudo apt-get install -y fonts-nanum\n",
        "!sudo fc-cache -fv\n",
        "!rm ~/.cache/matplotlib -rf"
      ],
      "metadata": {
        "id": "G9TBikq58c2N"
      },
      "id": "G9TBikq58c2N",
      "execution_count": null,
      "outputs": []
    },
    {
      "cell_type": "markdown",
      "source": [
        "mecab 설치"
      ],
      "metadata": {
        "id": "utcHQOr274zw"
      },
      "id": "utcHQOr274zw"
    },
    {
      "cell_type": "code",
      "source": [
        "!sudo apt-get install curl git\n",
        "!bash <(curl -s https://raw.githubusercontent.com/konlpy/konlpy/master/scripts/mecab.sh)"
      ],
      "metadata": {
        "id": "4TxDzWEh74LR"
      },
      "id": "4TxDzWEh74LR",
      "execution_count": null,
      "outputs": []
    },
    {
      "cell_type": "markdown",
      "source": [
        "#### 해당 [사이트](https://teddylee777.github.io/colab/colab-korean)를 참고하여 위의 코드를 실행한 다음 런타임 재시작을 해주어야 합니다."
      ],
      "metadata": {
        "id": "oUtVJiH59ASm"
      },
      "id": "oUtVJiH59ASm"
    },
    {
      "cell_type": "code",
      "source": [
        "import seaborn as sns\n",
        "import matplotlib.pyplot as plt\n",
        "import numpy as np\n",
        "\n",
        "# 한글 지원 폰트\n",
        "plt.rc('font', family='NanumBarunGothic')\n",
        "\n",
        "# 마이너스 부호 \n",
        "plt.rcParams['axes.unicode_minus'] = False\n",
        "\n",
        "plt.plot(np.random.randint(1, 50, 25))\n",
        "plt.title(\"가나다라\")\n",
        "plt.show()"
      ],
      "metadata": {
        "colab": {
          "base_uri": "https://localhost:8080/",
          "height": 280
        },
        "id": "5Z2owJw-50vM",
        "outputId": "e60ce7ab-7081-4259-bb18-ca76369a87b3"
      },
      "id": "5Z2owJw-50vM",
      "execution_count": null,
      "outputs": [
        {
          "output_type": "display_data",
          "data": {
            "image/png": "[encoded data removed]",
            "text/plain": [
              "<Figure size 432x288 with 1 Axes>"
            ]
          },
          "metadata": {
            "needs_background": "light"
          }
        }
      ]
    },
    {
      "cell_type": "markdown",
      "source": [
        "#### 구글 드라이브와 코랩 연결"
      ],
      "metadata": {
        "id": "QSbnI8rRUGMm"
      },
      "id": "QSbnI8rRUGMm"
    },
    {
      "cell_type": "code",
      "source": [
        "import os, sys\n",
        "from google.colab import drive\n",
        "drive.mount('/content/drive')\n",
        "os.chdir('/content/drive/MyDrive/TUNiB준비반/AIFFEL_3rd_hackerton_TUNiB_DKTC/notebook/ChangHyun')"
      ],
      "metadata": {
        "colab": {
          "base_uri": "https://localhost:8080/"
        },
        "id": "Aohacm9kptzv",
        "outputId": "6d2b8532-a1fc-4c06-862b-cb5796d52aa0"
      },
      "id": "Aohacm9kptzv",
      "execution_count": null,
      "outputs": [
        {
          "output_type": "stream",
          "name": "stdout",
          "text": [
            "Mounted at /content/drive\n"
          ]
        }
      ]
    },
    {
      "cell_type": "markdown",
      "source": [
        "## 2. 데이터 불러오기"
      ],
      "metadata": {
        "id": "n7C236xgpKES"
      },
      "id": "n7C236xgpKES"
    },
    {
      "cell_type": "markdown",
      "source": [
        "#### TUNiB 데이터 불러오기"
      ],
      "metadata": {
        "id": "rzmg7UqEzUaS"
      },
      "id": "rzmg7UqEzUaS"
    },
    {
      "cell_type": "code",
      "source": [
        "import pandas as pd\n",
        "\n",
        "tunib_train = pd.read_csv(\"../../data/TUNiB/train.csv\")\n",
        "tunib_train = tunib_train[[\"class\", \"conversation\"]]"
      ],
      "metadata": {
        "id": "NE4rkAdDC-F_"
      },
      "id": "NE4rkAdDC-F_",
      "execution_count": null,
      "outputs": []
    },
    {
      "cell_type": "markdown",
      "source": [
        "#### 증강 데이터 불러오기"
      ],
      "metadata": {
        "id": "A6Dpl1IqY_09"
      },
      "id": "A6Dpl1IqY_09"
    },
    {
      "cell_type": "code",
      "source": [
        "import re\n",
        "\n",
        "def id2label(x):\n",
        "  # id에 맞는 실제 클래스로 변환시킵니다.\n",
        "  if x == 0:\n",
        "    return \"협박 대화\"\n",
        "  elif x == 1:\n",
        "    return \"갈취 대화\"\n",
        "  elif x == 2:\n",
        "    return \"직장 내 괴롭힘 대화\"\n",
        "  elif x == 3:\n",
        "    return \"기타 괴롭힘 대화\"\n",
        "  elif x == 4:\n",
        "    return \"일반 대화\"\n",
        "\n",
        "koeda_rd = pd.read_csv(\"../../data/augmented_files/koeda-rd-aug.csv\")\n",
        "koeda_rs = pd.read_csv(\"../../data/augmented_files/koeda-rs-aug.csv\") # 생각보다 변형이 너무 심하네\n",
        "bt_en = pd.read_csv(\"../../data/augmented_files/bt-pororo-en-aug.csv\") # 변형이 심하지만 실험용\n",
        "\n",
        "\n",
        "aug_train = pd.concat([koeda_rd, bt_en], axis = 0)[[\"y_train\", \"x_train\"]]\n",
        "aug_train = aug_train.rename(columns = {\"y_train\":\"class\", \"x_train\":\"conversation\"})\n",
        "aug_train[\"class\"] = aug_train[\"class\"].apply(id2label)\n",
        "aug_train.head()"
      ],
      "metadata": {
        "colab": {
          "base_uri": "https://localhost:8080/",
          "height": 206
        },
        "id": "97A5AWYOICSF",
        "outputId": "c14fbcfe-8520-4f19-857e-bffd683a4c50"
      },
      "id": "97A5AWYOICSF",
      "execution_count": null,
      "outputs": [
        {
          "output_type": "execute_result",
          "data": {
            "text/html": [
              "\n",
              "  <div id=\"df-946a084c-7c49-4ead-a24e-14c63a59e56c\">\n",
              "    <div class=\"colab-df-container\">\n",
              "      <div>\n",
              "<style scoped>\n",
              "    .dataframe tbody tr th:only-of-type {\n",
              "        vertical-align: middle;\n",
              "    }\n",
              "\n",
              "    .dataframe tbody tr th {\n",
              "        vertical-align: top;\n",
              "    }\n",
              "\n",
              "    .dataframe thead th {\n",
              "        text-align: right;\n",
              "    }\n",
              "</style>\n",
              "<table border=\"1\" class=\"dataframe\">\n",
              "  <thead>\n",
              "    <tr style=\"text-align: right;\">\n",
              "      <th></th>\n",
              "      <th>class</th>\n",
              "      <th>conversation</th>\n",
              "    </tr>\n",
              "  </thead>\n",
              "  <tbody>\n",
              "    <tr>\n",
              "      <th>0</th>\n",
              "      <td>협박 대화</td>\n",
              "      <td>지금 너 스스로 죽여달라고 애원하는 것인가 아닙니다 죄송합니다 죽을 면 혼자 죽지 ...</td>\n",
              "    </tr>\n",
              "    <tr>\n",
              "      <th>1</th>\n",
              "      <td>협박 대화</td>\n",
              "      <td>길동경찰서입니다 9시 40분 마트에 폭발물을 설치할거다 네 들어 한번만 더 얘기한다...</td>\n",
              "    </tr>\n",
              "    <tr>\n",
              "      <th>2</th>\n",
              "      <td>기타 괴롭힘 대화</td>\n",
              "      <td>너 되게 귀여운거 알지 나보다 작은 남자는 첨봤어 그만해 니들 놀리는거 재미없어 지...</td>\n",
              "    </tr>\n",
              "    <tr>\n",
              "      <th>3</th>\n",
              "      <td>갈취 대화</td>\n",
              "      <td>어이 거기 예 너 이야 너 이리 오 무슨 일 너 옷 좋아보인다 돈 좀 있나봐 아니에...</td>\n",
              "    </tr>\n",
              "    <tr>\n",
              "      <th>4</th>\n",
              "      <td>갈취 대화</td>\n",
              "      <td>요 혹시 날이 너무 뜨겁잖아요 저희 회사에서 이 선크림 파는데 한 번 손등에 발라보...</td>\n",
              "    </tr>\n",
              "  </tbody>\n",
              "</table>\n",
              "</div>\n",
              "      <button class=\"colab-df-convert\" onclick=\"convertToInteractive('df-946a084c-7c49-4ead-a24e-14c63a59e56c')\"\n",
              "              title=\"Convert this dataframe to an interactive table.\"\n",
              "              style=\"display:none;\">\n",
              "        \n",
              "  <svg xmlns=\"http://www.w3.org/2000/svg\" height=\"24px\"viewBox=\"0 0 24 24\"\n",
              "       width=\"24px\">\n",
              "    <path d=\"M0 0h24v24H0V0z\" fill=\"none\"/>\n",
              "    <path d=\"M18.56 5.44l.94 2.06.94-2.06 2.06-.94-2.06-.94-.94-2.06-.94 2.06-2.06.94zm-11 1L8.5 8.5l.94-2.06 2.06-.94-2.06-.94L8.5 2.5l-.94 2.06-2.06.94zm10 10l.94 2.06.94-2.06 2.06-.94-2.06-.94-.94-2.06-.94 2.06-2.06.94z\"/><path d=\"M17.41 7.96l-1.37-1.37c-.4-.4-.92-.59-1.43-.59-.52 0-1.04.2-1.43.59L10.3 9.45l-7.72 7.72c-.78.78-.78 2.05 0 2.83L4 21.41c.39.39.9.59 1.41.59.51 0 1.02-.2 1.41-.59l7.78-7.78 2.81-2.81c.8-.78.8-2.07 0-2.86zM5.41 20L4 18.59l7.72-7.72 1.47 1.35L5.41 20z\"/>\n",
              "  </svg>\n",
              "      </button>\n",
              "      \n",
              "  <style>\n",
              "    .colab-df-container {\n",
              "      display:flex;\n",
              "      flex-wrap:wrap;\n",
              "      gap: 12px;\n",
              "    }\n",
              "\n",
              "    .colab-df-convert {\n",
              "      background-color: #E8F0FE;\n",
              "      border: none;\n",
              "      border-radius: 50%;\n",
              "      cursor: pointer;\n",
              "      display: none;\n",
              "      fill: #1967D2;\n",
              "      height: 32px;\n",
              "      padding: 0 0 0 0;\n",
              "      width: 32px;\n",
              "    }\n",
              "\n",
              "    .colab-df-convert:hover {\n",
              "      background-color: #E2EBFA;\n",
              "      box-shadow: 0px 1px 2px rgba(60, 64, 67, 0.3), 0px 1px 3px 1px rgba(60, 64, 67, 0.15);\n",
              "      fill: #174EA6;\n",
              "    }\n",
              "\n",
              "    [theme=dark] .colab-df-convert {\n",
              "      background-color: #3B4455;\n",
              "      fill: #D2E3FC;\n",
              "    }\n",
              "\n",
              "    [theme=dark] .colab-df-convert:hover {\n",
              "      background-color: #434B5C;\n",
              "      box-shadow: 0px 1px 3px 1px rgba(0, 0, 0, 0.15);\n",
              "      filter: drop-shadow(0px 1px 2px rgba(0, 0, 0, 0.3));\n",
              "      fill: #FFFFFF;\n",
              "    }\n",
              "  </style>\n",
              "\n",
              "      <script>\n",
              "        const buttonEl =\n",
              "          document.querySelector('#df-946a084c-7c49-4ead-a24e-14c63a59e56c button.colab-df-convert');\n",
              "        buttonEl.style.display =\n",
              "          google.colab.kernel.accessAllowed ? 'block' : 'none';\n",
              "\n",
              "        async function convertToInteractive(key) {\n",
              "          const element = document.querySelector('#df-946a084c-7c49-4ead-a24e-14c63a59e56c');\n",
              "          const dataTable =\n",
              "            await google.colab.kernel.invokeFunction('convertToInteractive',\n",
              "                                                     [key], {});\n",
              "          if (!dataTable) return;\n",
              "\n",
              "          const docLinkHtml = 'Like what you see? Visit the ' +\n",
              "            '<a target=\"_blank\" href=https://colab.research.google.com/notebooks/data_table.ipynb>data table notebook</a>'\n",
              "            + ' to learn more about interactive tables.';\n",
              "          element.innerHTML = '';\n",
              "          dataTable['output_type'] = 'display_data';\n",
              "          await google.colab.output.renderOutput(dataTable, element);\n",
              "          const docLink = document.createElement('div');\n",
              "          docLink.innerHTML = docLinkHtml;\n",
              "          element.appendChild(docLink);\n",
              "        }\n",
              "      </script>\n",
              "    </div>\n",
              "  </div>\n",
              "  "
            ],
            "text/plain": [
              "       class                                       conversation\n",
              "0      협박 대화  지금 너 스스로 죽여달라고 애원하는 것인가 아닙니다 죄송합니다 죽을 면 혼자 죽지 ...\n",
              "1      협박 대화  길동경찰서입니다 9시 40분 마트에 폭발물을 설치할거다 네 들어 한번만 더 얘기한다...\n",
              "2  기타 괴롭힘 대화  너 되게 귀여운거 알지 나보다 작은 남자는 첨봤어 그만해 니들 놀리는거 재미없어 지...\n",
              "3      갈취 대화  어이 거기 예 너 이야 너 이리 오 무슨 일 너 옷 좋아보인다 돈 좀 있나봐 아니에...\n",
              "4      갈취 대화  요 혹시 날이 너무 뜨겁잖아요 저희 회사에서 이 선크림 파는데 한 번 손등에 발라보..."
            ]
          },
          "metadata": {},
          "execution_count": 130
        }
      ]
    },
    {
      "cell_type": "code",
      "source": [
        "from konlpy.tag import Mecab\n",
        "from tqdm import tqdm\n",
        "\n",
        "\n",
        "def remove_one_word(x):\n",
        "  word = [\"은\", \"는\", \"이\", \"가\", \"의\"]\n",
        "  x = [i for i in x if i not in word]\n",
        "  return \" \".join(x)\n",
        "\n",
        "mecab = Mecab()\n",
        "mecab_train = tunib_train.copy()\n",
        "tqdm.pandas()\n",
        "mecab_train[\"conversation\"] = mecab_train[\"conversation\"].apply(mecab.morphs)\n",
        "mecab_train[\"conversation\"] = mecab_train[\"conversation\"].apply(remove_one_word)"
      ],
      "metadata": {
        "id": "SaU3ElHXDtgW"
      },
      "id": "SaU3ElHXDtgW",
      "execution_count": null,
      "outputs": []
    },
    {
      "cell_type": "code",
      "source": [
        "tunib_aug_train = pd.concat([tunib_train, aug_train, mecab_train], axis = 0).reset_index(drop=True)"
      ],
      "metadata": {
        "id": "-AYxNUw6OlNh"
      },
      "id": "-AYxNUw6OlNh",
      "execution_count": null,
      "outputs": []
    },
    {
      "cell_type": "code",
      "source": [
        "tunib_aug_train.groupby(\"class\").count()"
      ],
      "metadata": {
        "colab": {
          "base_uri": "https://localhost:8080/",
          "height": 206
        },
        "id": "bKrnIU3qB8pT",
        "outputId": "5df6dffa-9014-4433-ce88-77ce8ba04517"
      },
      "id": "bKrnIU3qB8pT",
      "execution_count": null,
      "outputs": [
        {
          "output_type": "execute_result",
          "data": {
            "text/html": [
              "\n",
              "  <div id=\"df-a1d9fb3f-0b07-4dcc-8272-2d5b2992f155\">\n",
              "    <div class=\"colab-df-container\">\n",
              "      <div>\n",
              "<style scoped>\n",
              "    .dataframe tbody tr th:only-of-type {\n",
              "        vertical-align: middle;\n",
              "    }\n",
              "\n",
              "    .dataframe tbody tr th {\n",
              "        vertical-align: top;\n",
              "    }\n",
              "\n",
              "    .dataframe thead th {\n",
              "        text-align: right;\n",
              "    }\n",
              "</style>\n",
              "<table border=\"1\" class=\"dataframe\">\n",
              "  <thead>\n",
              "    <tr style=\"text-align: right;\">\n",
              "      <th></th>\n",
              "      <th>conversation</th>\n",
              "    </tr>\n",
              "    <tr>\n",
              "      <th>class</th>\n",
              "      <th></th>\n",
              "    </tr>\n",
              "  </thead>\n",
              "  <tbody>\n",
              "    <tr>\n",
              "      <th>갈취 대화</th>\n",
              "      <td>3924</td>\n",
              "    </tr>\n",
              "    <tr>\n",
              "      <th>기타 괴롭힘 대화</th>\n",
              "      <td>4376</td>\n",
              "    </tr>\n",
              "    <tr>\n",
              "      <th>직장 내 괴롭힘 대화</th>\n",
              "      <td>3916</td>\n",
              "    </tr>\n",
              "    <tr>\n",
              "      <th>협박 대화</th>\n",
              "      <td>3584</td>\n",
              "    </tr>\n",
              "  </tbody>\n",
              "</table>\n",
              "</div>\n",
              "      <button class=\"colab-df-convert\" onclick=\"convertToInteractive('df-a1d9fb3f-0b07-4dcc-8272-2d5b2992f155')\"\n",
              "              title=\"Convert this dataframe to an interactive table.\"\n",
              "              style=\"display:none;\">\n",
              "        \n",
              "  <svg xmlns=\"http://www.w3.org/2000/svg\" height=\"24px\"viewBox=\"0 0 24 24\"\n",
              "       width=\"24px\">\n",
              "    <path d=\"M0 0h24v24H0V0z\" fill=\"none\"/>\n",
              "    <path d=\"M18.56 5.44l.94 2.06.94-2.06 2.06-.94-2.06-.94-.94-2.06-.94 2.06-2.06.94zm-11 1L8.5 8.5l.94-2.06 2.06-.94-2.06-.94L8.5 2.5l-.94 2.06-2.06.94zm10 10l.94 2.06.94-2.06 2.06-.94-2.06-.94-.94-2.06-.94 2.06-2.06.94z\"/><path d=\"M17.41 7.96l-1.37-1.37c-.4-.4-.92-.59-1.43-.59-.52 0-1.04.2-1.43.59L10.3 9.45l-7.72 7.72c-.78.78-.78 2.05 0 2.83L4 21.41c.39.39.9.59 1.41.59.51 0 1.02-.2 1.41-.59l7.78-7.78 2.81-2.81c.8-.78.8-2.07 0-2.86zM5.41 20L4 18.59l7.72-7.72 1.47 1.35L5.41 20z\"/>\n",
              "  </svg>\n",
              "      </button>\n",
              "      \n",
              "  <style>\n",
              "    .colab-df-container {\n",
              "      display:flex;\n",
              "      flex-wrap:wrap;\n",
              "      gap: 12px;\n",
              "    }\n",
              "\n",
              "    .colab-df-convert {\n",
              "      background-color: #E8F0FE;\n",
              "      border: none;\n",
              "      border-radius: 50%;\n",
              "      cursor: pointer;\n",
              "      display: none;\n",
              "      fill: #1967D2;\n",
              "      height: 32px;\n",
              "      padding: 0 0 0 0;\n",
              "      width: 32px;\n",
              "    }\n",
              "\n",
              "    .colab-df-convert:hover {\n",
              "      background-color: #E2EBFA;\n",
              "      box-shadow: 0px 1px 2px rgba(60, 64, 67, 0.3), 0px 1px 3px 1px rgba(60, 64, 67, 0.15);\n",
              "      fill: #174EA6;\n",
              "    }\n",
              "\n",
              "    [theme=dark] .colab-df-convert {\n",
              "      background-color: #3B4455;\n",
              "      fill: #D2E3FC;\n",
              "    }\n",
              "\n",
              "    [theme=dark] .colab-df-convert:hover {\n",
              "      background-color: #434B5C;\n",
              "      box-shadow: 0px 1px 3px 1px rgba(0, 0, 0, 0.15);\n",
              "      filter: drop-shadow(0px 1px 2px rgba(0, 0, 0, 0.3));\n",
              "      fill: #FFFFFF;\n",
              "    }\n",
              "  </style>\n",
              "\n",
              "      <script>\n",
              "        const buttonEl =\n",
              "          document.querySelector('#df-a1d9fb3f-0b07-4dcc-8272-2d5b2992f155 button.colab-df-convert');\n",
              "        buttonEl.style.display =\n",
              "          google.colab.kernel.accessAllowed ? 'block' : 'none';\n",
              "\n",
              "        async function convertToInteractive(key) {\n",
              "          const element = document.querySelector('#df-a1d9fb3f-0b07-4dcc-8272-2d5b2992f155');\n",
              "          const dataTable =\n",
              "            await google.colab.kernel.invokeFunction('convertToInteractive',\n",
              "                                                     [key], {});\n",
              "          if (!dataTable) return;\n",
              "\n",
              "          const docLinkHtml = 'Like what you see? Visit the ' +\n",
              "            '<a target=\"_blank\" href=https://colab.research.google.com/notebooks/data_table.ipynb>data table notebook</a>'\n",
              "            + ' to learn more about interactive tables.';\n",
              "          element.innerHTML = '';\n",
              "          dataTable['output_type'] = 'display_data';\n",
              "          await google.colab.output.renderOutput(dataTable, element);\n",
              "          const docLink = document.createElement('div');\n",
              "          docLink.innerHTML = docLinkHtml;\n",
              "          element.appendChild(docLink);\n",
              "        }\n",
              "      </script>\n",
              "    </div>\n",
              "  </div>\n",
              "  "
            ],
            "text/plain": [
              "             conversation\n",
              "class                    \n",
              "갈취 대화                3924\n",
              "기타 괴롭힘 대화            4376\n",
              "직장 내 괴롭힘 대화          3916\n",
              "협박 대화                3584"
            ]
          },
          "metadata": {},
          "execution_count": 137
        }
      ]
    },
    {
      "cell_type": "markdown",
      "source": [
        "#### AI_HUB 데이터 불러오기"
      ],
      "metadata": {
        "id": "lbPmgK3izeMI"
      },
      "id": "lbPmgK3izeMI"
    },
    {
      "cell_type": "code",
      "source": [
        "from glob import glob\n",
        "\n",
        "aihub_train_path = glob(\"../../data/AI_HUB/*\")\n",
        "aihub_train_path = [path for path in aihub_train_path if \".csv\" in path]\n",
        "\n",
        "aihub_train = pd.DataFrame()\n",
        "for path in aihub_train_path:\n",
        "  tmp = pd.read_csv(path)\n",
        "  tmp[\"turn_num\"] = tmp[\"conversation\"].apply(lambda x : len(x.split(\"\\n\")))\n",
        "  tmp = tmp[(tmp[\"turn_num\"] >= 2) & (tmp[\"turn_num\"] <= 15)][[\"class\", \"conversation\"]]\n",
        "  print(len(tmp))\n",
        "  if len(tmp) >= 5000:\n",
        "    tmp = tmp.sample(5000)\n",
        "    aihub_train = pd.concat([aihub_train, tmp], axis = 0)\n",
        "  else:\n",
        "    aihub_train = pd.concat([aihub_train, tmp], axis = 0)"
      ],
      "metadata": {
        "id": "2RNrjm8WUT2v",
        "colab": {
          "base_uri": "https://localhost:8080/"
        },
        "outputId": "d04f59bc-db56-4a99-f7f7-cbdf7d3ec7e9"
      },
      "id": "2RNrjm8WUT2v",
      "execution_count": null,
      "outputs": [
        {
          "output_type": "stream",
          "name": "stdout",
          "text": [
            "4195\n",
            "1567674\n",
            "130220\n",
            "0\n",
            "252063\n"
          ]
        }
      ]
    },
    {
      "cell_type": "code",
      "source": [
        "# 한국어 대화, 한국어 SNS, 감정 말뭉치, 한국어 대화 요약, BERT로 예측한 SNS\n",
        "aihub_train = aihub_train.drop_duplicates(keep=\"first\")\n",
        "aihub_train.head()"
      ],
      "metadata": {
        "colab": {
          "base_uri": "https://localhost:8080/",
          "height": 206
        },
        "id": "K2WYJUbBWOjr",
        "outputId": "252b8165-5f8b-4bc4-b13c-604bef8ac1e3"
      },
      "id": "K2WYJUbBWOjr",
      "execution_count": null,
      "outputs": [
        {
          "output_type": "execute_result",
          "data": {
            "text/html": [
              "\n",
              "  <div id=\"df-cedeb002-eb63-4d9c-9320-76e1bd830d96\">\n",
              "    <div class=\"colab-df-container\">\n",
              "      <div>\n",
              "<style scoped>\n",
              "    .dataframe tbody tr th:only-of-type {\n",
              "        vertical-align: middle;\n",
              "    }\n",
              "\n",
              "    .dataframe tbody tr th {\n",
              "        vertical-align: top;\n",
              "    }\n",
              "\n",
              "    .dataframe thead th {\n",
              "        text-align: right;\n",
              "    }\n",
              "</style>\n",
              "<table border=\"1\" class=\"dataframe\">\n",
              "  <thead>\n",
              "    <tr style=\"text-align: right;\">\n",
              "      <th></th>\n",
              "      <th>class</th>\n",
              "      <th>conversation</th>\n",
              "    </tr>\n",
              "  </thead>\n",
              "  <tbody>\n",
              "    <tr>\n",
              "      <th>0</th>\n",
              "      <td>일반 대화</td>\n",
              "      <td>지금 배달되나요?\\n아 네 배달됩니다\\n짬뽕류는 어떤 게 있나요? 잘 나가는 짬뽕 ...</td>\n",
              "    </tr>\n",
              "    <tr>\n",
              "      <th>3</th>\n",
              "      <td>일반 대화</td>\n",
              "      <td>수고하십니다 죄송하지만 배달되나요?\\n네\\n짬뽕이나 간짜장 중에 어떤 게 잘 나가나...</td>\n",
              "    </tr>\n",
              "    <tr>\n",
              "      <th>10</th>\n",
              "      <td>일반 대화</td>\n",
              "      <td>죄송하지만 영업은 몇 시부터 몇 시까지 하세요?\\n열시까집니다 아침 열한시부터 밤 ...</td>\n",
              "    </tr>\n",
              "    <tr>\n",
              "      <th>12</th>\n",
              "      <td>일반 대화</td>\n",
              "      <td>네 수고하십니다 저 죄송하지만 배달은 몇 시까지 하나요?\\n열두시부터 열한시까지요\\...</td>\n",
              "    </tr>\n",
              "    <tr>\n",
              "      <th>14</th>\n",
              "      <td>일반 대화</td>\n",
              "      <td>지금 배달되나요?\\n네\\n그 메뉴가 어떤 거 어떤 게 있어요?\\n튀김 종류하고 찜닭...</td>\n",
              "    </tr>\n",
              "  </tbody>\n",
              "</table>\n",
              "</div>\n",
              "      <button class=\"colab-df-convert\" onclick=\"convertToInteractive('df-cedeb002-eb63-4d9c-9320-76e1bd830d96')\"\n",
              "              title=\"Convert this dataframe to an interactive table.\"\n",
              "              style=\"display:none;\">\n",
              "        \n",
              "  <svg xmlns=\"http://www.w3.org/2000/svg\" height=\"24px\"viewBox=\"0 0 24 24\"\n",
              "       width=\"24px\">\n",
              "    <path d=\"M0 0h24v24H0V0z\" fill=\"none\"/>\n",
              "    <path d=\"M18.56 5.44l.94 2.06.94-2.06 2.06-.94-2.06-.94-.94-2.06-.94 2.06-2.06.94zm-11 1L8.5 8.5l.94-2.06 2.06-.94-2.06-.94L8.5 2.5l-.94 2.06-2.06.94zm10 10l.94 2.06.94-2.06 2.06-.94-2.06-.94-.94-2.06-.94 2.06-2.06.94z\"/><path d=\"M17.41 7.96l-1.37-1.37c-.4-.4-.92-.59-1.43-.59-.52 0-1.04.2-1.43.59L10.3 9.45l-7.72 7.72c-.78.78-.78 2.05 0 2.83L4 21.41c.39.39.9.59 1.41.59.51 0 1.02-.2 1.41-.59l7.78-7.78 2.81-2.81c.8-.78.8-2.07 0-2.86zM5.41 20L4 18.59l7.72-7.72 1.47 1.35L5.41 20z\"/>\n",
              "  </svg>\n",
              "      </button>\n",
              "      \n",
              "  <style>\n",
              "    .colab-df-container {\n",
              "      display:flex;\n",
              "      flex-wrap:wrap;\n",
              "      gap: 12px;\n",
              "    }\n",
              "\n",
              "    .colab-df-convert {\n",
              "      background-color: #E8F0FE;\n",
              "      border: none;\n",
              "      border-radius: 50%;\n",
              "      cursor: pointer;\n",
              "      display: none;\n",
              "      fill: #1967D2;\n",
              "      height: 32px;\n",
              "      padding: 0 0 0 0;\n",
              "      width: 32px;\n",
              "    }\n",
              "\n",
              "    .colab-df-convert:hover {\n",
              "      background-color: #E2EBFA;\n",
              "      box-shadow: 0px 1px 2px rgba(60, 64, 67, 0.3), 0px 1px 3px 1px rgba(60, 64, 67, 0.15);\n",
              "      fill: #174EA6;\n",
              "    }\n",
              "\n",
              "    [theme=dark] .colab-df-convert {\n",
              "      background-color: #3B4455;\n",
              "      fill: #D2E3FC;\n",
              "    }\n",
              "\n",
              "    [theme=dark] .colab-df-convert:hover {\n",
              "      background-color: #434B5C;\n",
              "      box-shadow: 0px 1px 3px 1px rgba(0, 0, 0, 0.15);\n",
              "      filter: drop-shadow(0px 1px 2px rgba(0, 0, 0, 0.3));\n",
              "      fill: #FFFFFF;\n",
              "    }\n",
              "  </style>\n",
              "\n",
              "      <script>\n",
              "        const buttonEl =\n",
              "          document.querySelector('#df-cedeb002-eb63-4d9c-9320-76e1bd830d96 button.colab-df-convert');\n",
              "        buttonEl.style.display =\n",
              "          google.colab.kernel.accessAllowed ? 'block' : 'none';\n",
              "\n",
              "        async function convertToInteractive(key) {\n",
              "          const element = document.querySelector('#df-cedeb002-eb63-4d9c-9320-76e1bd830d96');\n",
              "          const dataTable =\n",
              "            await google.colab.kernel.invokeFunction('convertToInteractive',\n",
              "                                                     [key], {});\n",
              "          if (!dataTable) return;\n",
              "\n",
              "          const docLinkHtml = 'Like what you see? Visit the ' +\n",
              "            '<a target=\"_blank\" href=https://colab.research.google.com/notebooks/data_table.ipynb>data table notebook</a>'\n",
              "            + ' to learn more about interactive tables.';\n",
              "          element.innerHTML = '';\n",
              "          dataTable['output_type'] = 'display_data';\n",
              "          await google.colab.output.renderOutput(dataTable, element);\n",
              "          const docLink = document.createElement('div');\n",
              "          docLink.innerHTML = docLinkHtml;\n",
              "          element.appendChild(docLink);\n",
              "        }\n",
              "      </script>\n",
              "    </div>\n",
              "  </div>\n",
              "  "
            ],
            "text/plain": [
              "    class                                       conversation\n",
              "0   일반 대화  지금 배달되나요?\\n아 네 배달됩니다\\n짬뽕류는 어떤 게 있나요? 잘 나가는 짬뽕 ...\n",
              "3   일반 대화  수고하십니다 죄송하지만 배달되나요?\\n네\\n짬뽕이나 간짜장 중에 어떤 게 잘 나가나...\n",
              "10  일반 대화  죄송하지만 영업은 몇 시부터 몇 시까지 하세요?\\n열시까집니다 아침 열한시부터 밤 ...\n",
              "12  일반 대화  네 수고하십니다 저 죄송하지만 배달은 몇 시까지 하나요?\\n열두시부터 열한시까지요\\...\n",
              "14  일반 대화  지금 배달되나요?\\n네\\n그 메뉴가 어떤 거 어떤 게 있어요?\\n튀김 종류하고 찜닭..."
            ]
          },
          "metadata": {},
          "execution_count": 142
        }
      ]
    },
    {
      "cell_type": "code",
      "source": [
        "len(aihub_train)"
      ],
      "metadata": {
        "colab": {
          "base_uri": "https://localhost:8080/"
        },
        "id": "AMPTg11f_kDn",
        "outputId": "5e0acea3-4f85-4ce6-a285-cedc474379c0"
      },
      "id": "AMPTg11f_kDn",
      "execution_count": null,
      "outputs": [
        {
          "output_type": "execute_result",
          "data": {
            "text/plain": [
              "19177"
            ]
          },
          "metadata": {},
          "execution_count": 143
        }
      ]
    },
    {
      "cell_type": "code",
      "source": [
        "# 회의 음성 데이터\n",
        "taek_train_path = glob(\"../../data/Taek_data/*\")\n",
        "\n",
        "taek_train = pd.DataFrame()\n",
        "for path in taek_train_path:\n",
        "  tmp = pd.read_csv(path)\n",
        "  tmp[\"turn_num\"] = tmp[\"conversation\"].apply(lambda x : len(x.split(\"n/\")))\n",
        "  #tmp = tmp[(tmp[\"turn_num\"] >= 2) & (tmp[\"turn_num\"] <= 15)][[\"class\", \"conversation\"]]\n",
        "  print(len(tmp))\n",
        "  taek_train = pd.concat([taek_train, tmp], axis = 0)\n",
        "taek_train = taek_train.reset_index(drop=True)  "
      ],
      "metadata": {
        "id": "crNrvtAMTsdN",
        "colab": {
          "base_uri": "https://localhost:8080/"
        },
        "outputId": "56582daf-a2a0-4eae-cbfc-09583008db14"
      },
      "id": "crNrvtAMTsdN",
      "execution_count": null,
      "outputs": [
        {
          "output_type": "stream",
          "name": "stdout",
          "text": [
            "5000\n",
            "5000\n",
            "5000\n",
            "5000\n"
          ]
        }
      ]
    },
    {
      "cell_type": "markdown",
      "source": [
        "#### AI_HUB 데이터와 TUNiB 데이터를 합친 뒤 전처리 적용"
      ],
      "metadata": {
        "id": "kDae3grfzlHj"
      },
      "id": "kDae3grfzlHj"
    },
    {
      "cell_type": "code",
      "source": [
        "train = pd.concat([tunib_aug_train, taek_train, aihub_train], axis = 0)\n",
        "print(train.shape)\n",
        "print(train.groupby(\"class\").count())\n",
        "train.head()"
      ],
      "metadata": {
        "colab": {
          "base_uri": "https://localhost:8080/",
          "height": 353
        },
        "id": "ZE1S8foOdrA3",
        "outputId": "a8c9c796-06a4-4414-86d4-50ac50093c06"
      },
      "id": "ZE1S8foOdrA3",
      "execution_count": null,
      "outputs": [
        {
          "output_type": "stream",
          "name": "stdout",
          "text": [
            "(43781, 2)\n",
            "             conversation\n",
            "class                    \n",
            "갈취 대화                3924\n",
            "기타 괴롭힘 대화            4376\n",
            "일반 대화               27981\n",
            "직장 내 괴롭힘 대화          3916\n",
            "협박 대화                3584\n"
          ]
        },
        {
          "output_type": "execute_result",
          "data": {
            "text/html": [
              "\n",
              "  <div id=\"df-95ec4440-7060-4b5d-9936-171e445b5ef5\">\n",
              "    <div class=\"colab-df-container\">\n",
              "      <div>\n",
              "<style scoped>\n",
              "    .dataframe tbody tr th:only-of-type {\n",
              "        vertical-align: middle;\n",
              "    }\n",
              "\n",
              "    .dataframe tbody tr th {\n",
              "        vertical-align: top;\n",
              "    }\n",
              "\n",
              "    .dataframe thead th {\n",
              "        text-align: right;\n",
              "    }\n",
              "</style>\n",
              "<table border=\"1\" class=\"dataframe\">\n",
              "  <thead>\n",
              "    <tr style=\"text-align: right;\">\n",
              "      <th></th>\n",
              "      <th>class</th>\n",
              "      <th>conversation</th>\n",
              "    </tr>\n",
              "  </thead>\n",
              "  <tbody>\n",
              "    <tr>\n",
              "      <th>0</th>\n",
              "      <td>협박 대화</td>\n",
              "      <td>지금 너 스스로를 죽여달라고 애원하는 것인가?\\n 아닙니다. 죄송합니다.\\n 죽을 ...</td>\n",
              "    </tr>\n",
              "    <tr>\n",
              "      <th>1</th>\n",
              "      <td>협박 대화</td>\n",
              "      <td>길동경찰서입니다.\\n9시 40분 마트에 폭발물을 설치할거다.\\n네?\\n똑바로 들어 ...</td>\n",
              "    </tr>\n",
              "    <tr>\n",
              "      <th>2</th>\n",
              "      <td>기타 괴롭힘 대화</td>\n",
              "      <td>너 되게 귀여운거 알지? 나보다 작은 남자는 첨봤어.\\n그만해. 니들 놀리는거 재미...</td>\n",
              "    </tr>\n",
              "    <tr>\n",
              "      <th>3</th>\n",
              "      <td>갈취 대화</td>\n",
              "      <td>어이 거기\\n예??\\n너 말이야 너. 이리 오라고\\n무슨 일.\\n너 옷 좋아보인다?...</td>\n",
              "    </tr>\n",
              "    <tr>\n",
              "      <th>4</th>\n",
              "      <td>갈취 대화</td>\n",
              "      <td>저기요 혹시 날이 너무 뜨겁잖아요? 저희 회사에서 이 선크림 파는데 한 번 손등에 ...</td>\n",
              "    </tr>\n",
              "  </tbody>\n",
              "</table>\n",
              "</div>\n",
              "      <button class=\"colab-df-convert\" onclick=\"convertToInteractive('df-95ec4440-7060-4b5d-9936-171e445b5ef5')\"\n",
              "              title=\"Convert this dataframe to an interactive table.\"\n",
              "              style=\"display:none;\">\n",
              "        \n",
              "  <svg xmlns=\"http://www.w3.org/2000/svg\" height=\"24px\"viewBox=\"0 0 24 24\"\n",
              "       width=\"24px\">\n",
              "    <path d=\"M0 0h24v24H0V0z\" fill=\"none\"/>\n",
              "    <path d=\"M18.56 5.44l.94 2.06.94-2.06 2.06-.94-2.06-.94-.94-2.06-.94 2.06-2.06.94zm-11 1L8.5 8.5l.94-2.06 2.06-.94-2.06-.94L8.5 2.5l-.94 2.06-2.06.94zm10 10l.94 2.06.94-2.06 2.06-.94-2.06-.94-.94-2.06-.94 2.06-2.06.94z\"/><path d=\"M17.41 7.96l-1.37-1.37c-.4-.4-.92-.59-1.43-.59-.52 0-1.04.2-1.43.59L10.3 9.45l-7.72 7.72c-.78.78-.78 2.05 0 2.83L4 21.41c.39.39.9.59 1.41.59.51 0 1.02-.2 1.41-.59l7.78-7.78 2.81-2.81c.8-.78.8-2.07 0-2.86zM5.41 20L4 18.59l7.72-7.72 1.47 1.35L5.41 20z\"/>\n",
              "  </svg>\n",
              "      </button>\n",
              "      \n",
              "  <style>\n",
              "    .colab-df-container {\n",
              "      display:flex;\n",
              "      flex-wrap:wrap;\n",
              "      gap: 12px;\n",
              "    }\n",
              "\n",
              "    .colab-df-convert {\n",
              "      background-color: #E8F0FE;\n",
              "      border: none;\n",
              "      border-radius: 50%;\n",
              "      cursor: pointer;\n",
              "      display: none;\n",
              "      fill: #1967D2;\n",
              "      height: 32px;\n",
              "      padding: 0 0 0 0;\n",
              "      width: 32px;\n",
              "    }\n",
              "\n",
              "    .colab-df-convert:hover {\n",
              "      background-color: #E2EBFA;\n",
              "      box-shadow: 0px 1px 2px rgba(60, 64, 67, 0.3), 0px 1px 3px 1px rgba(60, 64, 67, 0.15);\n",
              "      fill: #174EA6;\n",
              "    }\n",
              "\n",
              "    [theme=dark] .colab-df-convert {\n",
              "      background-color: #3B4455;\n",
              "      fill: #D2E3FC;\n",
              "    }\n",
              "\n",
              "    [theme=dark] .colab-df-convert:hover {\n",
              "      background-color: #434B5C;\n",
              "      box-shadow: 0px 1px 3px 1px rgba(0, 0, 0, 0.15);\n",
              "      filter: drop-shadow(0px 1px 2px rgba(0, 0, 0, 0.3));\n",
              "      fill: #FFFFFF;\n",
              "    }\n",
              "  </style>\n",
              "\n",
              "      <script>\n",
              "        const buttonEl =\n",
              "          document.querySelector('#df-95ec4440-7060-4b5d-9936-171e445b5ef5 button.colab-df-convert');\n",
              "        buttonEl.style.display =\n",
              "          google.colab.kernel.accessAllowed ? 'block' : 'none';\n",
              "\n",
              "        async function convertToInteractive(key) {\n",
              "          const element = document.querySelector('#df-95ec4440-7060-4b5d-9936-171e445b5ef5');\n",
              "          const dataTable =\n",
              "            await google.colab.kernel.invokeFunction('convertToInteractive',\n",
              "                                                     [key], {});\n",
              "          if (!dataTable) return;\n",
              "\n",
              "          const docLinkHtml = 'Like what you see? Visit the ' +\n",
              "            '<a target=\"_blank\" href=https://colab.research.google.com/notebooks/data_table.ipynb>data table notebook</a>'\n",
              "            + ' to learn more about interactive tables.';\n",
              "          element.innerHTML = '';\n",
              "          dataTable['output_type'] = 'display_data';\n",
              "          await google.colab.output.renderOutput(dataTable, element);\n",
              "          const docLink = document.createElement('div');\n",
              "          docLink.innerHTML = docLinkHtml;\n",
              "          element.appendChild(docLink);\n",
              "        }\n",
              "      </script>\n",
              "    </div>\n",
              "  </div>\n",
              "  "
            ],
            "text/plain": [
              "       class                                       conversation\n",
              "0      협박 대화  지금 너 스스로를 죽여달라고 애원하는 것인가?\\n 아닙니다. 죄송합니다.\\n 죽을 ...\n",
              "1      협박 대화  길동경찰서입니다.\\n9시 40분 마트에 폭발물을 설치할거다.\\n네?\\n똑바로 들어 ...\n",
              "2  기타 괴롭힘 대화  너 되게 귀여운거 알지? 나보다 작은 남자는 첨봤어.\\n그만해. 니들 놀리는거 재미...\n",
              "3      갈취 대화  어이 거기\\n예??\\n너 말이야 너. 이리 오라고\\n무슨 일.\\n너 옷 좋아보인다?...\n",
              "4      갈취 대화  저기요 혹시 날이 너무 뜨겁잖아요? 저희 회사에서 이 선크림 파는데 한 번 손등에 ..."
            ]
          },
          "metadata": {},
          "execution_count": 146
        }
      ]
    },
    {
      "cell_type": "code",
      "source": [
        "def label2id(x):\n",
        "  # id에 맞는 실제 클래스로 변환시킵니다.\n",
        "  if x == \"협박 대화\":\n",
        "    return 0\n",
        "  elif x == \"갈취 대화\":\n",
        "    return 1\n",
        "  elif x == \"직장 내 괴롭힘 대화\":\n",
        "    return 2\n",
        "  elif x == \"기타 괴롭힘 대화\":\n",
        "    return 3\n",
        "  elif x == \"일반 대화\":\n",
        "    return 4\n",
        "\n",
        "# 기존에는 ?!,. 포함이었음\n",
        "def preprocessing(x):\n",
        "  # 한글, 숫자를 제외하고는 모든 str을 공백으로 대체합니다.\n",
        "  x = re.sub(\"[^ㄱ-ㅎ가-힣0-9]\", \" \", x)\n",
        "  # 연속적인 공백을 한칸 공백으로 대체합니다.\n",
        "  x = re.sub(\"[ ]+\", \" \", x)\n",
        "  # 양쪽 공백을 제거합니다.\n",
        "  x = x.strip()\n",
        "  return x"
      ],
      "metadata": {
        "id": "dVxs0na9PpPn"
      },
      "id": "dVxs0na9PpPn",
      "execution_count": null,
      "outputs": []
    },
    {
      "cell_type": "code",
      "source": [
        "# 앞선 함수를 데이터셋에 적용합니다.\n",
        "from tqdm import tqdm\n",
        "import re\n",
        "train[\"class\"] = train[\"class\"].apply(label2id)\n",
        "train[\"conversation\"] = train[\"conversation\"].apply(preprocessing)\n",
        "train = train.sample(frac=1)\n",
        "train = train.reset_index(drop=True)\n",
        "print(train.shape)\n",
        "print(train.groupby(\"class\").count())\n",
        "train.head()"
      ],
      "metadata": {
        "colab": {
          "base_uri": "https://localhost:8080/",
          "height": 353
        },
        "id": "F_ssHh3qPrkH",
        "outputId": "3c4c8154-327f-4e0c-e355-69d4109b3e37"
      },
      "id": "F_ssHh3qPrkH",
      "execution_count": null,
      "outputs": [
        {
          "output_type": "stream",
          "name": "stdout",
          "text": [
            "(43781, 2)\n",
            "       conversation\n",
            "class              \n",
            "0              3584\n",
            "1              3924\n",
            "2              3916\n",
            "3              4376\n",
            "4             27981\n"
          ]
        },
        {
          "output_type": "execute_result",
          "data": {
            "text/html": [
              "\n",
              "  <div id=\"df-91ae2d53-c38c-42de-83a2-87f1d1a4cc59\">\n",
              "    <div class=\"colab-df-container\">\n",
              "      <div>\n",
              "<style scoped>\n",
              "    .dataframe tbody tr th:only-of-type {\n",
              "        vertical-align: middle;\n",
              "    }\n",
              "\n",
              "    .dataframe tbody tr th {\n",
              "        vertical-align: top;\n",
              "    }\n",
              "\n",
              "    .dataframe thead th {\n",
              "        text-align: right;\n",
              "    }\n",
              "</style>\n",
              "<table border=\"1\" class=\"dataframe\">\n",
              "  <thead>\n",
              "    <tr style=\"text-align: right;\">\n",
              "      <th></th>\n",
              "      <th>class</th>\n",
              "      <th>conversation</th>\n",
              "    </tr>\n",
              "  </thead>\n",
              "  <tbody>\n",
              "    <tr>\n",
              "      <th>0</th>\n",
              "      <td>4</td>\n",
              "      <td>앞으로 이뤄내야 할 과제들은 무엇인지 함께 이야기 나눠보도록 하겠습니다 따라서 이 ...</td>\n",
              "    </tr>\n",
              "    <tr>\n",
              "      <th>1</th>\n",
              "      <td>4</td>\n",
              "      <td>무슨 치유헌 이런 게 모두 단구법 싼구 쌍구법 이런 게 있어요 붓 붙잡는 거하고 똑...</td>\n",
              "    </tr>\n",
              "    <tr>\n",
              "      <th>2</th>\n",
              "      <td>2</td>\n",
              "      <td>어쨌든 실제 회사에서 나오지 않는 것에 대해서는 아무것도 할 수 없었을 때 잘 했던...</td>\n",
              "    </tr>\n",
              "    <tr>\n",
              "      <th>3</th>\n",
              "      <td>4</td>\n",
              "      <td>이 나이가 되도록 서울에 집 장만도 못하고 전세로 사니 정말 속상해 요즘 서울 집 ...</td>\n",
              "    </tr>\n",
              "    <tr>\n",
              "      <th>4</th>\n",
              "      <td>4</td>\n",
              "      <td>꿀떡 파나요 네 호박인절미도 있나요 네 제일 잘 팔려요 먹어봐도 되나요 네 드셔보세요</td>\n",
              "    </tr>\n",
              "  </tbody>\n",
              "</table>\n",
              "</div>\n",
              "      <button class=\"colab-df-convert\" onclick=\"convertToInteractive('df-91ae2d53-c38c-42de-83a2-87f1d1a4cc59')\"\n",
              "              title=\"Convert this dataframe to an interactive table.\"\n",
              "              style=\"display:none;\">\n",
              "        \n",
              "  <svg xmlns=\"http://www.w3.org/2000/svg\" height=\"24px\"viewBox=\"0 0 24 24\"\n",
              "       width=\"24px\">\n",
              "    <path d=\"M0 0h24v24H0V0z\" fill=\"none\"/>\n",
              "    <path d=\"M18.56 5.44l.94 2.06.94-2.06 2.06-.94-2.06-.94-.94-2.06-.94 2.06-2.06.94zm-11 1L8.5 8.5l.94-2.06 2.06-.94-2.06-.94L8.5 2.5l-.94 2.06-2.06.94zm10 10l.94 2.06.94-2.06 2.06-.94-2.06-.94-.94-2.06-.94 2.06-2.06.94z\"/><path d=\"M17.41 7.96l-1.37-1.37c-.4-.4-.92-.59-1.43-.59-.52 0-1.04.2-1.43.59L10.3 9.45l-7.72 7.72c-.78.78-.78 2.05 0 2.83L4 21.41c.39.39.9.59 1.41.59.51 0 1.02-.2 1.41-.59l7.78-7.78 2.81-2.81c.8-.78.8-2.07 0-2.86zM5.41 20L4 18.59l7.72-7.72 1.47 1.35L5.41 20z\"/>\n",
              "  </svg>\n",
              "      </button>\n",
              "      \n",
              "  <style>\n",
              "    .colab-df-container {\n",
              "      display:flex;\n",
              "      flex-wrap:wrap;\n",
              "      gap: 12px;\n",
              "    }\n",
              "\n",
              "    .colab-df-convert {\n",
              "      background-color: #E8F0FE;\n",
              "      border: none;\n",
              "      border-radius: 50%;\n",
              "      cursor: pointer;\n",
              "      display: none;\n",
              "      fill: #1967D2;\n",
              "      height: 32px;\n",
              "      padding: 0 0 0 0;\n",
              "      width: 32px;\n",
              "    }\n",
              "\n",
              "    .colab-df-convert:hover {\n",
              "      background-color: #E2EBFA;\n",
              "      box-shadow: 0px 1px 2px rgba(60, 64, 67, 0.3), 0px 1px 3px 1px rgba(60, 64, 67, 0.15);\n",
              "      fill: #174EA6;\n",
              "    }\n",
              "\n",
              "    [theme=dark] .colab-df-convert {\n",
              "      background-color: #3B4455;\n",
              "      fill: #D2E3FC;\n",
              "    }\n",
              "\n",
              "    [theme=dark] .colab-df-convert:hover {\n",
              "      background-color: #434B5C;\n",
              "      box-shadow: 0px 1px 3px 1px rgba(0, 0, 0, 0.15);\n",
              "      filter: drop-shadow(0px 1px 2px rgba(0, 0, 0, 0.3));\n",
              "      fill: #FFFFFF;\n",
              "    }\n",
              "  </style>\n",
              "\n",
              "      <script>\n",
              "        const buttonEl =\n",
              "          document.querySelector('#df-91ae2d53-c38c-42de-83a2-87f1d1a4cc59 button.colab-df-convert');\n",
              "        buttonEl.style.display =\n",
              "          google.colab.kernel.accessAllowed ? 'block' : 'none';\n",
              "\n",
              "        async function convertToInteractive(key) {\n",
              "          const element = document.querySelector('#df-91ae2d53-c38c-42de-83a2-87f1d1a4cc59');\n",
              "          const dataTable =\n",
              "            await google.colab.kernel.invokeFunction('convertToInteractive',\n",
              "                                                     [key], {});\n",
              "          if (!dataTable) return;\n",
              "\n",
              "          const docLinkHtml = 'Like what you see? Visit the ' +\n",
              "            '<a target=\"_blank\" href=https://colab.research.google.com/notebooks/data_table.ipynb>data table notebook</a>'\n",
              "            + ' to learn more about interactive tables.';\n",
              "          element.innerHTML = '';\n",
              "          dataTable['output_type'] = 'display_data';\n",
              "          await google.colab.output.renderOutput(dataTable, element);\n",
              "          const docLink = document.createElement('div');\n",
              "          docLink.innerHTML = docLinkHtml;\n",
              "          element.appendChild(docLink);\n",
              "        }\n",
              "      </script>\n",
              "    </div>\n",
              "  </div>\n",
              "  "
            ],
            "text/plain": [
              "   class                                       conversation\n",
              "0      4  앞으로 이뤄내야 할 과제들은 무엇인지 함께 이야기 나눠보도록 하겠습니다 따라서 이 ...\n",
              "1      4  무슨 치유헌 이런 게 모두 단구법 싼구 쌍구법 이런 게 있어요 붓 붙잡는 거하고 똑...\n",
              "2      2  어쨌든 실제 회사에서 나오지 않는 것에 대해서는 아무것도 할 수 없었을 때 잘 했던...\n",
              "3      4  이 나이가 되도록 서울에 집 장만도 못하고 전세로 사니 정말 속상해 요즘 서울 집 ...\n",
              "4      4    꿀떡 파나요 네 호박인절미도 있나요 네 제일 잘 팔려요 먹어봐도 되나요 네 드셔보세요"
            ]
          },
          "metadata": {},
          "execution_count": 148
        }
      ]
    },
    {
      "cell_type": "markdown",
      "source": [
        "#### 학습을 위해서 만들어진 데이터셋 csv 파일로 저장"
      ],
      "metadata": {
        "id": "2VmM0cN00Ojg"
      },
      "id": "2VmM0cN00Ojg"
    },
    {
      "cell_type": "code",
      "source": [
        "train.to_csv(\"../../data/senti_kor_sns_summry_sound_5000.csv\")"
      ],
      "metadata": {
        "id": "nfPKmv8RQzbQ"
      },
      "id": "nfPKmv8RQzbQ",
      "execution_count": null,
      "outputs": []
    },
    {
      "cell_type": "markdown",
      "id": "executive-tumor",
      "metadata": {
        "id": "executive-tumor"
      },
      "source": [
        "## 3. 모델 클래스 및 함수 "
      ]
    },
    {
      "cell_type": "markdown",
      "source": [
        "#### 데이터 로딩 클래스"
      ],
      "metadata": {
        "id": "YSfkbxNodTU-"
      },
      "id": "YSfkbxNodTU-"
    },
    {
      "cell_type": "code",
      "source": [
        "import pandas as pd\n",
        "from sklearn.model_selection import train_test_split\n",
        "from collections import Counter\n",
        "\n",
        "class DataLoad():\n",
        "\n",
        "\n",
        "  def __init__(self, data_path):\n",
        "    self.dataset = pd.read_csv(data_path)\n",
        "\n",
        "\n",
        "  def split(self, split_size):\n",
        "    X = self.dataset[\"conversation\"]\n",
        "    Y = self.dataset[\"class\"]\n",
        "    print(self.dataset.groupby(\"class\").count().iloc[:,0])\n",
        "    print(self.dataset.head())\n",
        "    # 전체 데이터의 split_size 비율 만큼은 테스트, 검증 데이터입니다.\n",
        "    x_train, x_val_test, y_train, y_val_test = train_test_split(X, Y, \n",
        "                                                            test_size = split_size, \n",
        "                                                            random_state = 200,\n",
        "                                                            stratify = Y)\n",
        "    # 테스트, 검증 데이터의 개수는 1:1의 비율을 가집니다.\n",
        "    x_val, x_test, y_val, y_test = train_test_split(x_val_test, y_val_test,\n",
        "                                                test_size = 0.5,\n",
        "                                                random_state = 202,\n",
        "                                                stratify = y_val_test)\n",
        "    print(f\"x_train 개수 : {len(x_train)}\")\n",
        "    print(f\"y_train 개수 : {len(y_train)}\")\n",
        "    print(f\"x_val 개수 : {len(x_val)}\")\n",
        "    print(f\"y_val 개수 : {len(y_val)}\")\n",
        "    print(f\"x_test 개수 : {len(x_test)}\")\n",
        "    print(f\"y_test 개수 : {len(y_test)}\")\n",
        "    print(f\"훈련 데이터 레이블 비율 확인 : {Counter(y_train)}\")\n",
        "    print(f\"검증 데이터 레이블 비율 확인 : {Counter(y_val)}\")\n",
        "    print(f\"테스트 데이터 레이블 비율 확인 : {Counter(y_test)}\")\n",
        "    return x_train.tolist(), x_val.tolist(), x_test.tolist(), y_train.tolist(), y_val.tolist(), y_test.tolist()"
      ],
      "metadata": {
        "id": "A_SF3-cYvn6p"
      },
      "id": "A_SF3-cYvn6p",
      "execution_count": null,
      "outputs": []
    },
    {
      "cell_type": "markdown",
      "source": [
        "#### 데이터 증강 클래스"
      ],
      "metadata": {
        "id": "LGnVrUzRdZCX"
      },
      "id": "LGnVrUzRdZCX"
    },
    {
      "cell_type": "code",
      "source": [
        "import random\n",
        "import gensim\n",
        "from konlpy.tag import Mecab\n",
        "from tqdm import tqdm\n",
        "\n",
        "class DataAugmentation:\n",
        "\n",
        "\n",
        "  def __init__(self, X, Y, word2vec_path):\n",
        "    self.mecab = Mecab()\n",
        "    self.word2vec = gensim.models.Word2Vec.load(word2vec_path)\n",
        "    self.X = X\n",
        "    self.Y = Y\n",
        "  \n",
        "  def sub_rep(self, X, sub_ratio = 0.1):\n",
        "    # 전체 단어중에서 sub_ratio 만큼만 무작위 선택합니다.\n",
        "    nouns = list(set(self.mecab.morphs(X)))\n",
        "    sub_num = int(len(nouns) * sub_ratio)\n",
        "    sub_list = random.sample(nouns, sub_num)\n",
        "\n",
        "    # 대체 시킬 단어와 유사한 단어들을 불러옵니다.\n",
        "    result = []\n",
        "    for sub in sub_list:\n",
        "      try:\n",
        "        result.append((sub, self.word2vec.wv.most_similar(sub)[0]))\n",
        "      except KeyError:\n",
        "        pass\n",
        "    result = list(map(lambda x: (x[0], x[1][0]), result))\n",
        "\n",
        "    # 무작위 선택된 단어들을 유사한 단어들로 바꿔줍니다.\n",
        "    for before, after in result:\n",
        "      X = X.replace(before, after, 1)\n",
        "    return X\n",
        "\n",
        "  def sub_rep_dataset(self, sub_ratio = 0.1):\n",
        "    # 입력 X에 sub_rep 함수 적용합니다.\n",
        "    new_x = list(tqdm(map(lambda x: self.sub_rep(x, sub_ratio), self.X)))\n",
        "    # 입력 Y의 값을 복사합니다.\n",
        "    new_y = self.Y.copy()\n",
        "\n",
        "    print(\"훈련 데이터 유의어 대체 증강 완료\")\n",
        "    print(f\"증강시킨 데이터 개수 : {len(new_x)}\")\n",
        "    print(f\"----데이터 증강 전 데이터 예시 ----\\n{self.X[0]}\")\n",
        "    print(f\"----데이터 증강 후 데이터 예시 ----\\n{new_x[0]}\")\n",
        "    return new_x, new_y\n",
        "\n",
        "  def label_repeat(self, label_id, num = 1):\n",
        "    # 특정 레이블 label_id를 num 횟수 만큼 반복\n",
        "    new_x = []\n",
        "    new_y = []\n",
        "    for i in range(num):\n",
        "      label_index = (np.array(self.Y) == label_id)\n",
        "      new_x += np.array(self.X)[label_index].tolist()\n",
        "      new_y += np.array(self.Y)[label_index].tolist()\n",
        "    \n",
        "    print(\"훈련 데이터 특정 레이블 반복 증강 완료\")\n",
        "    print(f\"반복되는 레이블 id : {label_id}\")\n",
        "    print(f\"반복된 횟수 : {num}\")\n",
        "    return new_x, new_y"
      ],
      "metadata": {
        "id": "VSZTawMxU113"
      },
      "id": "VSZTawMxU113",
      "execution_count": null,
      "outputs": []
    },
    {
      "cell_type": "markdown",
      "source": [
        "#### 기타 함수 "
      ],
      "metadata": {
        "id": "rWcWSHaTdoiU"
      },
      "id": "rWcWSHaTdoiU"
    },
    {
      "cell_type": "code",
      "source": [
        "def id2label(x):\n",
        "  # id에 맞는 실제 클래스로 변환시킵니다.\n",
        "  if x == 0:\n",
        "    return \"협박 대화\"\n",
        "  elif x == 1:\n",
        "    return \"갈취 대화\"\n",
        "  elif x == 2:\n",
        "    return \"직장 내 괴롭힘 대화\"\n",
        "  elif x == 3:\n",
        "    return \"기타 괴롭힘 대화\"\n",
        "  elif x == 4:\n",
        "    return \"일반 대화\"\n",
        "\n",
        "\n",
        "def clf_score(y_test, y_pred):\n",
        "  # 테스트 데이터에서 오분류된 데이터들의 idx를 리스트 타입으로 반환합니다.\n",
        "  # classification report \n",
        "  false_list = [idx for idx, i in enumerate(y_test) if y_pred[idx] != i]\n",
        "  print(f\"모델이 틀린 데이터 개수 {len(false_list)}개\")\n",
        "  print(classification_report(y_test, y_pred))\n",
        "\n",
        "  # confusion matrix\n",
        "  conf_matrix = confusion_matrix(y_test, y_pred)\n",
        "  names = [\"협박\", \"갈취\", \"직장내 괴롭힘\", \"기타 괴롭힘\", \"일반\"]\n",
        "  conf_matrix = pd.DataFrame(conf_matrix, index = names, columns = names)\n",
        "  sns.heatmap(conf_matrix, annot = True, fmt = \"d\")\n",
        "  plt.title(\"Confusion Matrix\")\n",
        "  plt.xlabel(\"pred\")\n",
        "  plt.ylabel(\"true\")\n",
        "  plt.show()\n",
        "  return false_list\n",
        "\n",
        "\n",
        "def evaluate_result(score_list, x_test, y_pred, y_test):\n",
        "  # 입력, 예측값, 실제값, 레이블별 score로 이루어진 판다스 데이터셋을 반환합니다.\n",
        "  score_dataset = pd.DataFrame(score_list).add_prefix(\"label_\")\n",
        "  label_dataset = pd.DataFrame({\"x_test\":x_test, \"y_pred\":y_pred, \"y_test\":y_test})\n",
        "  test_dataset = pd.concat([label_dataset, score_dataset], axis = 1)\n",
        "  return test_dataset\n",
        "\n",
        "\n",
        "def false_case_dataset(false_list, x_test, y_test, y_pred, print_example = False):\n",
        "  # 오분류된 idx에 맞는 입력, 예측값, 실제값을 담은 리스트를 반환합니다.\n",
        "  false_x_test = [x_test[i] for i in false_list]\n",
        "  false_y_test = [y_test[i] for i in false_list]\n",
        "  false_y_pred = [y_pred[i] for i in false_list]\n",
        "\n",
        "  # 앞서 담은 리스트들을 판다스 데이터프레임 타입으로 변환시킵니다.\n",
        "  false_dataset = pd.DataFrame({\"text\":false_x_test, \"y_true\":false_y_test, \"y_pred\":false_y_pred})\n",
        "  # 숫자로된 id를 실제 레이블로 바꾸며 예시는 '0 -> 협박 대화' 입니다.\n",
        "  false_dataset[\"y_true\"] = false_dataset[\"y_true\"].apply(lambda x : id2label(x))\n",
        "  false_dataset[\"y_pred\"] = false_dataset[\"y_pred\"].apply(lambda x : id2label(x))\n",
        "\n",
        "  # 오분류 예제의 내용을 보고 싶으면 print_example argument를 True로 바꿉니다.\n",
        "  if print_example:\n",
        "    for i in range(len(false_dataset)):\n",
        "      sentence, prediction, real =false_dataset.iloc[i, :]\n",
        "      print(f\"예측 분류 : {prediction}\")\n",
        "      print(f\"실제 분류 : {real}\")\n",
        "      print(sentence)\n",
        "      print(\"\\n\")\n",
        "  return false_dataset  \n",
        "\n",
        "\n",
        "def save_csv(df, path, name):\n",
        "  try:\n",
        "    os.mkdir(path)\n",
        "  except:\n",
        "    pass\n",
        "  new_path = os.path.join(path, name)\n",
        "  df.to_csv(new_path)\n",
        "\n",
        "\n",
        "def scheduler(epoch, lr):\n",
        "  if epoch < 1:\n",
        "    return lr\n",
        "  else:\n",
        "    return lr * 0.2"
      ],
      "metadata": {
        "id": "LAPJD_j6qPLZ"
      },
      "id": "LAPJD_j6qPLZ",
      "execution_count": null,
      "outputs": []
    },
    {
      "cell_type": "markdown",
      "source": [
        "#### Huggingface 모델 파이프라인 클래스"
      ],
      "metadata": {
        "id": "w7Fmk8Z_ddet"
      },
      "id": "w7Fmk8Z_ddet"
    },
    {
      "cell_type": "code",
      "source": [
        "import os\n",
        "import re\n",
        "import tensorflow as tf\n",
        "import seaborn as sns\n",
        "import numpy as np\n",
        "import matplotlib.pyplot as plt\n",
        "from collections import defaultdict\n",
        "from tensorflow.keras.preprocessing.sequence import pad_sequences\n",
        "from sklearn.metrics import classification_report, confusion_matrix\n",
        "from transformers import TextClassificationPipeline\n",
        "from transformers import AutoTokenizer, TFAutoModelForSequenceClassification, TFAutoModel\n",
        "from sklearn.utils.class_weight import compute_class_weight\n",
        "\n",
        "class TFGPT2ForSequenceClassification(tf.keras.Model):\n",
        "  \"\"\"\n",
        "  GPT모델은 따로 출력층에 softmax 레이어를 추가해야 합니다.\n",
        "  \"\"\"\n",
        "  def __init__(self, model_name, num_labels):\n",
        "      super(TFGPT2ForSequenceClassification, self).__init__()\n",
        "      if \"output_gpt\" in model_name:\n",
        "        self.gpt = TFAutoModel.from_pretrained(model_name)\n",
        "      else:\n",
        "        self.gpt = TFAutoModel.from_pretrained(model_name, \n",
        "                                                from_pt=True)\n",
        "\n",
        "      self.classifier = tf.keras.layers.Dense(num_labels,\n",
        "                                              kernel_initializer=tf.keras.initializers.TruncatedNormal(0.02),\n",
        "                                              activation='softmax',\n",
        "                                              name='classifier')\n",
        "\n",
        "  def call(self, inputs):\n",
        "      outputs = self.gpt(input_ids=inputs)\n",
        "      cls_token = outputs[0][:, -1]\n",
        "      prediction = self.classifier(cls_token)\n",
        "\n",
        "      return prediction\n",
        "\n",
        "\n",
        "class TrainPipeline:\n",
        "  def __init__(self, model_path, num_labels, batch_size = 16, epochs = 1):\n",
        "    \"\"\"\n",
        "    Args:\n",
        "      - model_path : Hugginface에서 사전학습된 모델들의 주소 str값을 받습니다.\n",
        "      - num_labels : 분류되는 클래스의 개수 int값을 받습니다.\n",
        "      - batch_size : 배치마다 들어가는 데이터의 개수 int값을 받습니다.\n",
        "      - epochs : 모델이 학습하는 에폭 수 int값을 받습니다.\n",
        "    Desc:\n",
        "      - 데이터셋 구축, 모델 훈련, 저장, 검증의 과정을 거치는 훈련 파이프라인\n",
        "    \"\"\"\n",
        "    self.model_path = model_path\n",
        "    self.batch_size = batch_size\n",
        "    self.epochs = epochs\n",
        "    self.num_labels = num_labels\n",
        "    if \"output_bert\" in self.model_path:\n",
        "      self.tokenizer = AutoTokenizer.from_pretrained(\"klue/bert-base\",\n",
        "                                                    bos_token='</s>', \n",
        "                                                    eos_token='</s>', \n",
        "                                                    pad_token='<pad>')\n",
        "    elif \"output_gpt\" in self.model_path:\n",
        "      self.tokenizer = AutoTokenizer.from_pretrained(\"skt/kogpt2-base-v2\",\n",
        "                                                    bos_token='</s>', \n",
        "                                                    eos_token='</s>', \n",
        "                                                    pad_token='<pad>')\n",
        "    else:\n",
        "      self.tokenizer = AutoTokenizer.from_pretrained(self.model_path,\n",
        "                                                    bos_token='</s>', \n",
        "                                                    eos_token='</s>', \n",
        "                                                    pad_token='<pad>')\n",
        "    if \"output_bert\" in self.model_path:\n",
        "      self.model = TFAutoModelForSequenceClassification.from_pretrained(self.model_path,\n",
        "                                                                        num_labels = self.num_labels)\n",
        "    elif \"output_gpt\" in self.model_path:\n",
        "      self.model = TFAutoModelForSequenceClassification.from_pretrained(self.model_path,\n",
        "                                                                        num_labels = self.num_labels)      \n",
        "    else:\n",
        "      self.model = TFAutoModelForSequenceClassification.from_pretrained(self.model_path,\n",
        "                                                                        num_labels = self.num_labels,\n",
        "                                                                        from_pt=True)\n",
        "    # https://stackoverflow.com/questions/69191305/how-to-add-new-special-token-to-the-tokenizer\n",
        "    # 추가된 토큰에 맞게 vocab_size 재지정\n",
        "    self.model.resize_token_embeddings(len(self.tokenizer))\n",
        "\n",
        "  def dataset(self, X, Y, lstm = False):\n",
        "    \"\"\"\n",
        "    Args:\n",
        "      - X : 모델의 입력 변수로 str문장들로 구성된 list를 받습니다.\n",
        "      - Y : 모델의 출력 변수로 id값으로 구성된 list를 받습니다.\n",
        "      - lstm : lstm모델 여부를 결정하는 arg로 boolean을 받습니다.\n",
        "    Desc:\n",
        "      - 모델 학습에 들어가기 직전의 데이터셋으로 변환시켜주는 메소드입니다.\n",
        "    Returns:\n",
        "      - 모델이 GPT이면 (2D-array, 1D-array) 형태의 튜플을 반환합니다.\n",
        "      - 모델이 BERT, LSTM이면 텐서플로우 데이터셋을 반환합니다.\n",
        "    \"\"\"\n",
        "    # GPT 모델인 경우 넘파이로 반환시킵니다.\n",
        "    if \"GPT\" in str(self.model):\n",
        "      # 입력 변수 X의 원소에 차례대로 토큰화를 시키고 list에 넣습니다.\n",
        "      input_ids, data_labels = [], []\n",
        "      for example, label in tqdm(zip(X, Y), total=len(X)):\n",
        "          bos_token = [self.tokenizer.bos_token]\n",
        "          eos_token = [self.tokenizer.eos_token]\n",
        "          tokens = bos_token + self.tokenizer.tokenize(example) + eos_token\n",
        "          input_id = self.tokenizer.convert_tokens_to_ids(tokens)\n",
        "          input_ids.append(input_id)\n",
        "          data_labels.append(label)\n",
        "\n",
        "      # X에 토큰화된 문장중에서 가장 긴 문장을 기준으로 패딩을 해줍니다.\n",
        "      max_seq_len = max(map(lambda x : len(x), input_ids))\n",
        "      input_ids = pad_sequences(input_ids, maxlen = max_seq_len, \n",
        "                                value = self.tokenizer.pad_token_id, \n",
        "                                padding='post')\n",
        "      data_labels = np.array(data_labels)\n",
        "      return input_ids, data_labels\n",
        "\n",
        "    # BERT 모델인 경우 텐서플로우 데이터셋으로 반환시킵니다.\n",
        "    if not lstm:\n",
        "      encodings = self.tokenizer(X, truncation = True, padding = True)\n",
        "      dataset = tf.data.Dataset.from_tensor_slices((dict(encodings), \n",
        "                                                          Y))\n",
        "      dataset = dataset.shuffle(1000).batch(self.batch_size).prefetch(tf.data.experimental.AUTOTUNE)\n",
        "\n",
        "    # LSTM 모델인 경우 텐서플로우 데이터셋으로 반환시킵니다.\n",
        "    else:\n",
        "      encodings = X\n",
        "      dataset = tf.data.Dataset.from_tensor_slices((encodings, \n",
        "                                                    Y))\n",
        "      dataset = dataset.shuffle(1000).batch(self.batch_size).prefetch(tf.data.experimental.AUTOTUNE)\n",
        "    return dataset    \n",
        "\n",
        "  def training_dataset(self, train_dataset, val_dataset, class_weight = None):\n",
        "    \"\"\"\n",
        "    Args:\n",
        "      - train_dataset : dataset 메소드를 거친 훈련 데이터셋을 받습니다.\n",
        "      - val_dataset : dataset 메소드를 거친 검증 데이터셋을 받습니다.\n",
        "    Desc:\n",
        "      - 호출시킨 모델에 맞게 학습을 시키고 학습된 모델을 반환시켜줍니다.\n",
        "    Returns:\n",
        "      - 모델이 GPT면 학습된 subclass 모델을 반환합니다\n",
        "      - 모델이 LSTM, BERT이면 학습된 functional 모델을 반환합니다.\n",
        "    \"\"\"\n",
        "    optimizer = tf.keras.optimizers.Adam(learning_rate=1e-9)\n",
        "    losses = tf.keras.losses.SparseCategoricalCrossentropy(from_logits = True)\n",
        "    es = tf.keras.callbacks.EarlyStopping(monitor='val_loss',\n",
        "                                          mode='auto', \n",
        "                                          patience=1)\n",
        "    lr_schedule = tf.keras.callbacks.LearningRateScheduler(scheduler)\n",
        "    \n",
        "    # 모델이 GPT인 경우 앞서 선언된 subclass 모델을 가져와서 학습시킵니다.\n",
        "    if \"GPT\" in str(self.model):\n",
        "      x_train, y_train = train_dataset\n",
        "      x_val, y_val = val_dataset\n",
        "      num_labels = int(max(y_train) + 1)\n",
        "      self.model = TFGPT2ForSequenceClassification(self.model_path,\n",
        "                                              num_labels = num_labels)\n",
        "      self.model.compile(optimizer = optimizer,\n",
        "                        loss = losses,\n",
        "                        metrics = ['accuracy'])\n",
        "      self.model.fit(x_train, y_train,\n",
        "                     epochs = self.epochs,\n",
        "                     batch_size = self.batch_size,\n",
        "                     validation_data = (x_val, y_val),\n",
        "                     class_weight = class_weight,\n",
        "                     callbacks = [lr_schedule, es])\n",
        "      return self.model\n",
        "\n",
        "    # 모델이 LSTM, BERT인 경우 바로 학습시킵니다.\n",
        "    else:\n",
        "      self.model.compile(optimizer = optimizer,\n",
        "                        loss = losses,\n",
        "                        metrics = ['accuracy'])\n",
        "      self.model.fit(train_dataset,\n",
        "                     epochs = self.epochs,\n",
        "                     batch_size = self.batch_size,\n",
        "                     validation_data = val_dataset,\n",
        "                     class_weight = class_weight,\n",
        "                     callbacks = [lr_schedule, es])\n",
        "      return self.model \n",
        "\n",
        "  def evaluate_model(self, x_test):\n",
        "    \"\"\"\n",
        "    Args:\n",
        "      - x_test : LSTM, GPT모델이면 2-D array의 테스트 데이터를 받습니다.\n",
        "    Desc:\n",
        "      - 학습된 모델에 x_test를 예측한 점수와 클래스를 반환합니다.\n",
        "    Returns:\n",
        "      - LSTM, GPT 모델이면 (예측 점수 list, 클래스 1D-array)인 튜플을 반환합니다.\n",
        "      - BERT 모델인 경우 (예측 점수 list, 클래스 list)인 튜플을 반환합니다.\n",
        "    \"\"\"\n",
        "    predicted_label_list = []\n",
        "    predicted_score_list = []\n",
        "    \n",
        "    # 테스트 데이터를 예측하는 모델이 LSTM 또는 GPT인 경우\n",
        "    if \"Functional\" in str(self.model) or \"GPT\" in str(self.model):\n",
        "      predicted_score_list = self.model.predict(x_test)\n",
        "      y_pred = np.argmax(predicted_score_list, axis = -1)\n",
        "      predicted_score_list = predicted_score_list.tolist()\n",
        "    \n",
        "    # 테스트 데이터를 예측하는 모델이 BERT인 경우\n",
        "    else:\n",
        "      clf_model = TextClassificationPipeline(\n",
        "          tokenizer = self.tokenizer,\n",
        "          model = self.model,\n",
        "          framework = \"tf\",\n",
        "          return_all_scores = True\n",
        "          )\n",
        "      for text in tqdm(x_test):\n",
        "          preds_list = clf_model(text)[0]\n",
        "          sorted_preds_list = max(preds_list, key=lambda x: x['score'])\n",
        "          predicted_label_list.append(sorted_preds_list[\"label\"]) # label\n",
        "          predicted_score_list.append(list(map(lambda x : x['score'], preds_list))) # score\n",
        "      y_pred = [int(label[-1]) for label in predicted_label_list]\n",
        "    return predicted_score_list, y_pred\n",
        "  \n",
        "  def save_model_tokenizer(self, save_path):\n",
        "    \"\"\"\n",
        "    Args:\n",
        "      - save_path : 학습된 모델을 저장할 경로인 str를 받습니다.\n",
        "    Desc:\n",
        "      - save_path 경로에 폴더를 만들고 학습된 모델을 저장합니다.\n",
        "    \"\"\"\n",
        "\n",
        "    # save_path에 맞는 새로운 경로를 만듭니다.\n",
        "    try:\n",
        "      os.mkdir(save_path)\n",
        "    except:\n",
        "      pass\n",
        "    \n",
        "    # 저장하는 모델이 GPT인 경우\n",
        "    if \"GPT\" in str(self.model):\n",
        "      folder_name = re.sub(\"/\", \"-\", self.model_path)\n",
        "      new_path = os.path.join(save_path, folder_name)\n",
        "      self.model.save_weights('path_to_my_weights', save_format='tf')\n",
        "\n",
        "    # 저장하는 모델이 LSTM인 경우\n",
        "    elif \"Functional\" in str(self.model):\n",
        "      new_path = os.path.join(save_path, \"LSTM.h5\", )\n",
        "      self.model.save(new_path)\n",
        "    \n",
        "    # 저장하는 모델이 BERT인 경우\n",
        "    else:\n",
        "      folder_name = re.sub(\"/\", \"-\", self.model_path)\n",
        "      new_path = os.path.join(save_path, folder_name)    \n",
        "      self.model.save_pretrained(new_path)\n",
        "      self.tokenizer.save_pretrained(new_path)"
      ],
      "metadata": {
        "id": "_hnts0NAvNXO"
      },
      "id": "_hnts0NAvNXO",
      "execution_count": null,
      "outputs": []
    },
    {
      "cell_type": "markdown",
      "source": [
        "## 4. Main Huggingface 함수"
      ],
      "metadata": {
        "id": "nqYfxCinMdFa"
      },
      "id": "nqYfxCinMdFa"
    },
    {
      "cell_type": "markdown",
      "source": [
        "현재 실험 중인 Hunggingface 모델은 다음과 같습니다.\n",
        "- \"klue/bert-base\"\n",
        "- \"skt/kogpt2-base-v2\"\n",
        "- \"monologg/koelectra-base-v3-discriminator\"\n",
        "- \"klue/roberta-base\"\n",
        "- \"distilbert-base-multilingual-cased\""
      ],
      "metadata": {
        "id": "w6AIlowf119l"
      },
      "id": "w6AIlowf119l"
    },
    {
      "cell_type": "code",
      "source": [
        "# Huggingface에서 사용 가능한 사전학습 모델 리스트입니다.\n",
        "model_paths = [\"./model/output_bert/\"]     \n",
        "data_path = \"../../data/senti_kor_sns_summry_sound_5000.csv\" # 학습 데이터 위치\n",
        "batch_size = 16 # 모델에 들어가는 배치 크기\n",
        "epochs = 1 # 에폭 수\n",
        "save_path = f\"./model/2022_03_07_5000_summary_sound_epoch{epochs}_model\"\n",
        "\n",
        "for model_path in model_paths:\n",
        "  # TPU 작동을 위한 코드\n",
        "  resolver = tf.distribute.cluster_resolver.TPUClusterResolver(tpu='grpc://' + os.environ['COLAB_TPU_ADDR'])\n",
        "  tf.config.experimental_connect_to_cluster(resolver)\n",
        "  tf.tpu.experimental.initialize_tpu_system(resolver)\n",
        "  strategy = tf.distribute.experimental.TPUStrategy(resolver)\n",
        "  with strategy.scope():\n",
        "    print(f\"{model_path} 파이프라인 시작\")\n",
        "\n",
        "    # 데이터 로딩\n",
        "    load = DataLoad(data_path)\n",
        "    labels = load.dataset[\"class\"]\n",
        "    class_weight = compute_class_weight(class_weight = \"balanced\",\n",
        "                                        classes = np.unique(labels),\n",
        "                                        y = labels)    \n",
        "    class_weight = {label:weight for label, weight in enumerate(class_weight)}\n",
        "    print(class_weight)\n",
        "    x_train, x_val, x_test, y_train, y_val, y_test = load.split(0.01)\n",
        "    test_text = x_test.copy()\n",
        "    num_labels = int(max(y_train) + 1)\n",
        "\n",
        "    # 데이터셋 구축\n",
        "    pipeline = TrainPipeline(model_path, num_labels, batch_size, epochs)\n",
        "    train_dataset = pipeline.dataset(x_train, y_train)\n",
        "    val_dataset = pipeline.dataset(x_val, y_val)\n",
        "    if \"GPT\" in str(pipeline.model):\n",
        "      test_dataset = pipeline.dataset(x_test, y_test)\n",
        "      x_test, y_test = test_dataset\n",
        "\n",
        "    # 모델 학습, 예측, 저장\n",
        "    model = pipeline.training_dataset(train_dataset, val_dataset)\n",
        "    pipeline.save_model_tokenizer(save_path)\n",
        "    print(f\"{model_path} 파이프라인 종료\\n\")"
      ],
      "metadata": {
        "id": "a7qLVXz6J2JP",
        "colab": {
          "base_uri": "https://localhost:8080/"
        },
        "outputId": "2cbc53e6-4e6e-492f-8fe3-df7841b6b5f5"
      },
      "id": "a7qLVXz6J2JP",
      "execution_count": null,
      "outputs": [
        {
          "output_type": "stream",
          "name": "stdout",
          "text": [
            "INFO:tensorflow:Deallocate tpu buffers before initializing tpu system.\n"
          ]
        },
        {
          "output_type": "stream",
          "name": "stderr",
          "text": [
            "INFO:tensorflow:Deallocate tpu buffers before initializing tpu system.\n"
          ]
        },
        {
          "output_type": "stream",
          "name": "stdout",
          "text": [
            "WARNING:tensorflow:TPU system grpc://10.93.86.154:8470 has already been initialized. Reinitializing the TPU can cause previously created variables on TPU to be lost.\n"
          ]
        },
        {
          "output_type": "stream",
          "name": "stderr",
          "text": [
            "WARNING:tensorflow:TPU system grpc://10.93.86.154:8470 has already been initialized. Reinitializing the TPU can cause previously created variables on TPU to be lost.\n"
          ]
        },
        {
          "output_type": "stream",
          "name": "stdout",
          "text": [
            "INFO:tensorflow:Initializing the TPU system: grpc://10.93.86.154:8470\n"
          ]
        },
        {
          "output_type": "stream",
          "name": "stderr",
          "text": [
            "INFO:tensorflow:Initializing the TPU system: grpc://10.93.86.154:8470\n"
          ]
        },
        {
          "output_type": "stream",
          "name": "stdout",
          "text": [
            "INFO:tensorflow:Finished initializing TPU system.\n"
          ]
        },
        {
          "output_type": "stream",
          "name": "stderr",
          "text": [
            "INFO:tensorflow:Finished initializing TPU system.\n",
            "WARNING:absl:`tf.distribute.experimental.TPUStrategy` is deprecated, please use  the non experimental symbol `tf.distribute.TPUStrategy` instead.\n"
          ]
        },
        {
          "output_type": "stream",
          "name": "stdout",
          "text": [
            "INFO:tensorflow:Found TPU system:\n"
          ]
        },
        {
          "output_type": "stream",
          "name": "stderr",
          "text": [
            "INFO:tensorflow:Found TPU system:\n"
          ]
        },
        {
          "output_type": "stream",
          "name": "stdout",
          "text": [
            "INFO:tensorflow:*** Num TPU Cores: 8\n"
          ]
        },
        {
          "output_type": "stream",
          "name": "stderr",
          "text": [
            "INFO:tensorflow:*** Num TPU Cores: 8\n"
          ]
        },
        {
          "output_type": "stream",
          "name": "stdout",
          "text": [
            "INFO:tensorflow:*** Num TPU Workers: 1\n"
          ]
        },
        {
          "output_type": "stream",
          "name": "stderr",
          "text": [
            "INFO:tensorflow:*** Num TPU Workers: 1\n"
          ]
        },
        {
          "output_type": "stream",
          "name": "stdout",
          "text": [
            "INFO:tensorflow:*** Num TPU Cores Per Worker: 8\n"
          ]
        },
        {
          "output_type": "stream",
          "name": "stderr",
          "text": [
            "INFO:tensorflow:*** Num TPU Cores Per Worker: 8\n"
          ]
        },
        {
          "output_type": "stream",
          "name": "stdout",
          "text": [
            "INFO:tensorflow:*** Available Device: _DeviceAttributes(/job:localhost/replica:0/task:0/device:CPU:0, CPU, 0, 0)\n"
          ]
        },
        {
          "output_type": "stream",
          "name": "stderr",
          "text": [
            "INFO:tensorflow:*** Available Device: _DeviceAttributes(/job:localhost/replica:0/task:0/device:CPU:0, CPU, 0, 0)\n"
          ]
        },
        {
          "output_type": "stream",
          "name": "stdout",
          "text": [
            "INFO:tensorflow:*** Available Device: _DeviceAttributes(/job:worker/replica:0/task:0/device:CPU:0, CPU, 0, 0)\n"
          ]
        },
        {
          "output_type": "stream",
          "name": "stderr",
          "text": [
            "INFO:tensorflow:*** Available Device: _DeviceAttributes(/job:worker/replica:0/task:0/device:CPU:0, CPU, 0, 0)\n"
          ]
        },
        {
          "output_type": "stream",
          "name": "stdout",
          "text": [
            "INFO:tensorflow:*** Available Device: _DeviceAttributes(/job:worker/replica:0/task:0/device:TPU:0, TPU, 0, 0)\n"
          ]
        },
        {
          "output_type": "stream",
          "name": "stderr",
          "text": [
            "INFO:tensorflow:*** Available Device: _DeviceAttributes(/job:worker/replica:0/task:0/device:TPU:0, TPU, 0, 0)\n"
          ]
        },
        {
          "output_type": "stream",
          "name": "stdout",
          "text": [
            "INFO:tensorflow:*** Available Device: _DeviceAttributes(/job:worker/replica:0/task:0/device:TPU:1, TPU, 0, 0)\n"
          ]
        },
        {
          "output_type": "stream",
          "name": "stderr",
          "text": [
            "INFO:tensorflow:*** Available Device: _DeviceAttributes(/job:worker/replica:0/task:0/device:TPU:1, TPU, 0, 0)\n"
          ]
        },
        {
          "output_type": "stream",
          "name": "stdout",
          "text": [
            "INFO:tensorflow:*** Available Device: _DeviceAttributes(/job:worker/replica:0/task:0/device:TPU:2, TPU, 0, 0)\n"
          ]
        },
        {
          "output_type": "stream",
          "name": "stderr",
          "text": [
            "INFO:tensorflow:*** Available Device: _DeviceAttributes(/job:worker/replica:0/task:0/device:TPU:2, TPU, 0, 0)\n"
          ]
        },
        {
          "output_type": "stream",
          "name": "stdout",
          "text": [
            "INFO:tensorflow:*** Available Device: _DeviceAttributes(/job:worker/replica:0/task:0/device:TPU:3, TPU, 0, 0)\n"
          ]
        },
        {
          "output_type": "stream",
          "name": "stderr",
          "text": [
            "INFO:tensorflow:*** Available Device: _DeviceAttributes(/job:worker/replica:0/task:0/device:TPU:3, TPU, 0, 0)\n"
          ]
        },
        {
          "output_type": "stream",
          "name": "stdout",
          "text": [
            "INFO:tensorflow:*** Available Device: _DeviceAttributes(/job:worker/replica:0/task:0/device:TPU:4, TPU, 0, 0)\n"
          ]
        },
        {
          "output_type": "stream",
          "name": "stderr",
          "text": [
            "INFO:tensorflow:*** Available Device: _DeviceAttributes(/job:worker/replica:0/task:0/device:TPU:4, TPU, 0, 0)\n"
          ]
        },
        {
          "output_type": "stream",
          "name": "stdout",
          "text": [
            "INFO:tensorflow:*** Available Device: _DeviceAttributes(/job:worker/replica:0/task:0/device:TPU:5, TPU, 0, 0)\n"
          ]
        },
        {
          "output_type": "stream",
          "name": "stderr",
          "text": [
            "INFO:tensorflow:*** Available Device: _DeviceAttributes(/job:worker/replica:0/task:0/device:TPU:5, TPU, 0, 0)\n"
          ]
        },
        {
          "output_type": "stream",
          "name": "stdout",
          "text": [
            "INFO:tensorflow:*** Available Device: _DeviceAttributes(/job:worker/replica:0/task:0/device:TPU:6, TPU, 0, 0)\n"
          ]
        },
        {
          "output_type": "stream",
          "name": "stderr",
          "text": [
            "INFO:tensorflow:*** Available Device: _DeviceAttributes(/job:worker/replica:0/task:0/device:TPU:6, TPU, 0, 0)\n"
          ]
        },
        {
          "output_type": "stream",
          "name": "stdout",
          "text": [
            "INFO:tensorflow:*** Available Device: _DeviceAttributes(/job:worker/replica:0/task:0/device:TPU:7, TPU, 0, 0)\n"
          ]
        },
        {
          "output_type": "stream",
          "name": "stderr",
          "text": [
            "INFO:tensorflow:*** Available Device: _DeviceAttributes(/job:worker/replica:0/task:0/device:TPU:7, TPU, 0, 0)\n"
          ]
        },
        {
          "output_type": "stream",
          "name": "stdout",
          "text": [
            "INFO:tensorflow:*** Available Device: _DeviceAttributes(/job:worker/replica:0/task:0/device:TPU_SYSTEM:0, TPU_SYSTEM, 0, 0)\n"
          ]
        },
        {
          "output_type": "stream",
          "name": "stderr",
          "text": [
            "INFO:tensorflow:*** Available Device: _DeviceAttributes(/job:worker/replica:0/task:0/device:TPU_SYSTEM:0, TPU_SYSTEM, 0, 0)\n"
          ]
        },
        {
          "output_type": "stream",
          "name": "stdout",
          "text": [
            "INFO:tensorflow:*** Available Device: _DeviceAttributes(/job:worker/replica:0/task:0/device:XLA_CPU:0, XLA_CPU, 0, 0)\n"
          ]
        },
        {
          "output_type": "stream",
          "name": "stderr",
          "text": [
            "INFO:tensorflow:*** Available Device: _DeviceAttributes(/job:worker/replica:0/task:0/device:XLA_CPU:0, XLA_CPU, 0, 0)\n"
          ]
        },
        {
          "output_type": "stream",
          "name": "stdout",
          "text": [
            "./model/output_bert/ 파이프라인 시작\n",
            "{0: 2.443136160714286, 1: 2.23144750254842, 2: 2.236006128702758, 3: 2.000959780621572, 4: 0.3129337764911905}\n",
            "class\n",
            "0     3584\n",
            "1     3924\n",
            "2     3916\n",
            "3     4376\n",
            "4    27981\n",
            "Name: Unnamed: 0, dtype: int64\n",
            "   Unnamed: 0  class                                       conversation\n",
            "0           0      4  앞으로 이뤄내야 할 과제들은 무엇인지 함께 이야기 나눠보도록 하겠습니다 따라서 이 ...\n",
            "1           1      4  무슨 치유헌 이런 게 모두 단구법 싼구 쌍구법 이런 게 있어요 붓 붙잡는 거하고 똑...\n",
            "2           2      2  어쨌든 실제 회사에서 나오지 않는 것에 대해서는 아무것도 할 수 없었을 때 잘 했던...\n",
            "3           3      4  이 나이가 되도록 서울에 집 장만도 못하고 전세로 사니 정말 속상해 요즘 서울 집 ...\n",
            "4           4      4    꿀떡 파나요 네 호박인절미도 있나요 네 제일 잘 팔려요 먹어봐도 되나요 네 드셔보세요\n",
            "x_train 개수 : 43343\n",
            "y_train 개수 : 43343\n",
            "x_val 개수 : 219\n",
            "y_val 개수 : 219\n",
            "x_test 개수 : 219\n",
            "y_test 개수 : 219\n",
            "훈련 데이터 레이블 비율 확인 : Counter({4: 27701, 3: 4332, 1: 3885, 2: 3877, 0: 3548})\n",
            "검증 데이터 레이블 비율 확인 : Counter({4: 140, 3: 22, 1: 20, 2: 19, 0: 18})\n",
            "테스트 데이터 레이블 비율 확인 : Counter({4: 140, 3: 22, 2: 20, 1: 19, 0: 18})\n"
          ]
        },
        {
          "output_type": "stream",
          "name": "stderr",
          "text": [
            "Special tokens have been added in the vocabulary, make sure the associated word embeddings are fine-tuned or trained.\n",
            "All model checkpoint layers were used when initializing TFBertForSequenceClassification.\n",
            "\n",
            "Some layers of TFBertForSequenceClassification were not initialized from the model checkpoint at ./model/output_bert/ and are newly initialized: ['classifier', 'bert/pooler/dense/kernel:0', 'bert/pooler/dense/bias:0']\n",
            "You should probably TRAIN this model on a down-stream task to be able to use it for predictions and inference.\n"
          ]
        },
        {
          "output_type": "stream",
          "name": "stdout",
          "text": [
            "2709/2709 [==============================] - 401s 116ms/step - loss: 0.1466 - accuracy: 0.9522 - val_loss: 0.0637 - val_accuracy: 0.9863 - lr: 5.0000e-05\n",
            "./model/output_bert/ 파이프라인 종료\n",
            "\n"
          ]
        }
      ]
    },
    {
      "cell_type": "markdown",
      "source": [
        "## 5.5 transformers_interpret 시각화"
      ],
      "metadata": {
        "id": "Vp9VxKnL3vfD"
      },
      "id": "Vp9VxKnL3vfD"
    },
    {
      "cell_type": "code",
      "source": [
        "from transformers_interpret import SequenceClassificationExplainer\n",
        "from transformers import AutoModelForSequenceClassification, AutoTokenizer\n",
        "\n",
        "\n",
        "# 저장했던 Huggingface 모델을 불러옵니다.\n",
        "path = save_path + \"/.-model-output_bert-\"\n",
        "model =  AutoModelForSequenceClassification.from_pretrained(path, from_tf=True) \n",
        "tokenizer = AutoTokenizer.from_pretrained(path)\n",
        "\n",
        "#다중분류 설명자 생성\n",
        "multiclass_explainer = SequenceClassificationExplainer(model = model, \n",
        "                                                       tokenizer = tokenizer)"
      ],
      "metadata": {
        "id": "9K1eIF8v3ynZ",
        "colab": {
          "base_uri": "https://localhost:8080/"
        },
        "outputId": "7aa9a599-b379-41ec-f943-423ce66f1de1"
      },
      "id": "9K1eIF8v3ynZ",
      "execution_count": null,
      "outputs": [
        {
          "output_type": "stream",
          "name": "stderr",
          "text": [
            "All TF 2.0 model weights were used when initializing BertForSequenceClassification.\n",
            "\n",
            "All the weights of BertForSequenceClassification were initialized from the TF 2.0 model.\n",
            "If your task is similar to the task the model of the checkpoint was trained on, you can already use BertForSequenceClassification for predictions without further training.\n"
          ]
        }
      ]
    },
    {
      "cell_type": "code",
      "source": [
        "# epoch 1번 \n",
        "i = 18\n",
        "sample = x_test[i]\n",
        "sample_label = y_test[i]\n",
        "print(f\"실제 레이블 : {sample_label}\")\n",
        "\n",
        "word_attributions = multiclass_explainer(sample)\n",
        "html = multiclass_explainer.visualize()"
      ],
      "metadata": {
        "id": "dIBnNG9L32nJ",
        "colab": {
          "base_uri": "https://localhost:8080/",
          "height": 155
        },
        "outputId": "b982458a-17bd-44d0-da7f-524df32425a1"
      },
      "id": "dIBnNG9L32nJ",
      "execution_count": null,
      "outputs": [
        {
          "output_type": "stream",
          "name": "stdout",
          "text": [
            "실제 레이블 : 1\n"
          ]
        },
        {
          "output_type": "display_data",
          "data": {
            "text/html": [
              "<table width: 100%><div style=\"border-top: 1px solid; margin-top: 5px;             padding-top: 5px; display: inline-block\"><b>Legend: </b><span style=\"display: inline-block; width: 10px; height: 10px;                 border: 1px solid; background-color:                 hsl(0, 75%, 60%)\"></span> Negative  <span style=\"display: inline-block; width: 10px; height: 10px;                 border: 1px solid; background-color:                 hsl(0, 75%, 100%)\"></span> Neutral  <span style=\"display: inline-block; width: 10px; height: 10px;                 border: 1px solid; background-color:                 hsl(120, 75%, 50%)\"></span> Positive  </div><tr><th>True Label</th><th>Predicted Label</th><th>Attribution Label</th><th>Attribution Score</th><th>Word Importance</th><tr><td><text style=\"padding-right:2em\"><b>1</b></text></td><td><text style=\"padding-right:2em\"><b>LABEL_1 (0.97)</b></text></td><td><text style=\"padding-right:2em\"><b>LABEL_1</b></text></td><td><text style=\"padding-right:2em\"><b>4.80</b></text></td><td><mark style=\"background-color: hsl(0, 75%, 100%); opacity:1.0;                     line-height:1.75\"><font color=\"black\"> [CLS]                    </font></mark><mark style=\"background-color: hsl(120, 75%, 89%); opacity:1.0;                     line-height:1.75\"><font color=\"black\"> 야                    </font></mark><mark style=\"background-color: hsl(120, 75%, 98%); opacity:1.0;                     line-height:1.75\"><font color=\"black\"> 핸드폰                    </font></mark><mark style=\"background-color: hsl(120, 75%, 90%); opacity:1.0;                     line-height:1.75\"><font color=\"black\"> ##좀                    </font></mark><mark style=\"background-color: hsl(120, 75%, 90%); opacity:1.0;                     line-height:1.75\"><font color=\"black\"> 줘                    </font></mark><mark style=\"background-color: hsl(120, 75%, 99%); opacity:1.0;                     line-height:1.75\"><font color=\"black\"> ##봐                    </font></mark><mark style=\"background-color: hsl(120, 75%, 97%); opacity:1.0;                     line-height:1.75\"><font color=\"black\"> 왜                    </font></mark><mark style=\"background-color: hsl(120, 75%, 94%); opacity:1.0;                     line-height:1.75\"><font color=\"black\"> ##세요                    </font></mark><mark style=\"background-color: hsl(120, 75%, 94%); opacity:1.0;                     line-height:1.75\"><font color=\"black\"> 아니                    </font></mark><mark style=\"background-color: hsl(0, 75%, 100%); opacity:1.0;                     line-height:1.75\"><font color=\"black\"> 잠깐                    </font></mark><mark style=\"background-color: hsl(120, 75%, 100%); opacity:1.0;                     line-height:1.75\"><font color=\"black\"> 통화                    </font></mark><mark style=\"background-color: hsl(120, 75%, 99%); opacity:1.0;                     line-height:1.75\"><font color=\"black\"> ##좀                    </font></mark><mark style=\"background-color: hsl(120, 75%, 99%); opacity:1.0;                     line-height:1.75\"><font color=\"black\"> ##하                    </font></mark><mark style=\"background-color: hsl(120, 75%, 100%); opacity:1.0;                     line-height:1.75\"><font color=\"black\"> ##려                    </font></mark><mark style=\"background-color: hsl(120, 75%, 99%); opacity:1.0;                     line-height:1.75\"><font color=\"black\"> ##는데                    </font></mark><mark style=\"background-color: hsl(120, 75%, 99%); opacity:1.0;                     line-height:1.75\"><font color=\"black\"> 아니                    </font></mark><mark style=\"background-color: hsl(120, 75%, 95%); opacity:1.0;                     line-height:1.75\"><font color=\"black\"> 싫어                    </font></mark><mark style=\"background-color: hsl(120, 75%, 99%); opacity:1.0;                     line-height:1.75\"><font color=\"black\"> ##요                    </font></mark><mark style=\"background-color: hsl(120, 75%, 91%); opacity:1.0;                     line-height:1.75\"><font color=\"black\"> 야                    </font></mark><mark style=\"background-color: hsl(0, 75%, 100%); opacity:1.0;                     line-height:1.75\"><font color=\"black\"> 통화                    </font></mark><mark style=\"background-color: hsl(120, 75%, 100%); opacity:1.0;                     line-height:1.75\"><font color=\"black\"> ##만                    </font></mark><mark style=\"background-color: hsl(0, 75%, 99%); opacity:1.0;                     line-height:1.75\"><font color=\"black\"> ##하고                    </font></mark><mark style=\"background-color: hsl(120, 75%, 95%); opacity:1.0;                     line-height:1.75\"><font color=\"black\"> 준다                    </font></mark><mark style=\"background-color: hsl(120, 75%, 98%); opacity:1.0;                     line-height:1.75\"><font color=\"black\"> ##니까                    </font></mark><mark style=\"background-color: hsl(120, 75%, 98%); opacity:1.0;                     line-height:1.75\"><font color=\"black\"> 이거                    </font></mark><mark style=\"background-color: hsl(120, 75%, 96%); opacity:1.0;                     line-height:1.75\"><font color=\"black\"> 제                    </font></mark><mark style=\"background-color: hsl(0, 75%, 100%); opacity:1.0;                     line-height:1.75\"><font color=\"black\"> ##폰                    </font></mark><mark style=\"background-color: hsl(120, 75%, 100%); opacity:1.0;                     line-height:1.75\"><font color=\"black\"> ##인                    </font></mark><mark style=\"background-color: hsl(120, 75%, 99%); opacity:1.0;                     line-height:1.75\"><font color=\"black\"> ##데                    </font></mark><mark style=\"background-color: hsl(120, 75%, 98%); opacity:1.0;                     line-height:1.75\"><font color=\"black\"> 본인                    </font></mark><mark style=\"background-color: hsl(120, 75%, 95%); opacity:1.0;                     line-height:1.75\"><font color=\"black\"> ##폰                    </font></mark><mark style=\"background-color: hsl(120, 75%, 97%); opacity:1.0;                     line-height:1.75\"><font color=\"black\"> ##그러                    </font></mark><mark style=\"background-color: hsl(120, 75%, 93%); opacity:1.0;                     line-height:1.75\"><font color=\"black\"> ##세요                    </font></mark><mark style=\"background-color: hsl(120, 75%, 97%); opacity:1.0;                     line-height:1.75\"><font color=\"black\"> 맞                    </font></mark><mark style=\"background-color: hsl(120, 75%, 100%); opacity:1.0;                     line-height:1.75\"><font color=\"black\"> ##고                    </font></mark><mark style=\"background-color: hsl(120, 75%, 98%); opacity:1.0;                     line-height:1.75\"><font color=\"black\"> ##줄                    </font></mark><mark style=\"background-color: hsl(120, 75%, 95%); opacity:1.0;                     line-height:1.75\"><font color=\"black\"> ##래                    </font></mark><mark style=\"background-color: hsl(120, 75%, 97%); opacity:1.0;                     line-height:1.75\"><font color=\"black\"> 그냥                    </font></mark><mark style=\"background-color: hsl(0, 75%, 100%); opacity:1.0;                     line-height:1.75\"><font color=\"black\"> ##줄                    </font></mark><mark style=\"background-color: hsl(120, 75%, 98%); opacity:1.0;                     line-height:1.75\"><font color=\"black\"> ##래                    </font></mark><mark style=\"background-color: hsl(120, 75%, 97%); opacity:1.0;                     line-height:1.75\"><font color=\"black\"> 하                    </font></mark><mark style=\"background-color: hsl(120, 75%, 99%); opacity:1.0;                     line-height:1.75\"><font color=\"black\"> 진짜                    </font></mark><mark style=\"background-color: hsl(120, 75%, 93%); opacity:1.0;                     line-height:1.75\"><font color=\"black\"> 왜                    </font></mark><mark style=\"background-color: hsl(120, 75%, 97%); opacity:1.0;                     line-height:1.75\"><font color=\"black\"> ##그러                    </font></mark><mark style=\"background-color: hsl(120, 75%, 92%); opacity:1.0;                     line-height:1.75\"><font color=\"black\"> ##세요                    </font></mark><mark style=\"background-color: hsl(120, 75%, 97%); opacity:1.0;                     line-height:1.75\"><font color=\"black\"> 이거                    </font></mark><mark style=\"background-color: hsl(120, 75%, 100%); opacity:1.0;                     line-height:1.75\"><font color=\"black\"> 진짜                    </font></mark><mark style=\"background-color: hsl(0, 75%, 100%); opacity:1.0;                     line-height:1.75\"><font color=\"black\"> 개                    </font></mark><mark style=\"background-color: hsl(120, 75%, 100%); opacity:1.0;                     line-height:1.75\"><font color=\"black\"> ##기                    </font></mark><mark style=\"background-color: hsl(120, 75%, 99%); opacity:1.0;                     line-height:1.75\"><font color=\"black\"> ##네                    </font></mark><mark style=\"background-color: hsl(120, 75%, 91%); opacity:1.0;                     line-height:1.75\"><font color=\"black\"> 좋                    </font></mark><mark style=\"background-color: hsl(120, 75%, 99%); opacity:1.0;                     line-height:1.75\"><font color=\"black\"> ##은                    </font></mark><mark style=\"background-color: hsl(120, 75%, 95%); opacity:1.0;                     line-height:1.75\"><font color=\"black\"> ##말                    </font></mark><mark style=\"background-color: hsl(0, 75%, 100%); opacity:1.0;                     line-height:1.75\"><font color=\"black\"> ##할                    </font></mark><mark style=\"background-color: hsl(120, 75%, 74%); opacity:1.0;                     line-height:1.75\"><font color=\"black\"> 내놔                    </font></mark><mark style=\"background-color: hsl(120, 75%, 86%); opacity:1.0;                     line-height:1.75\"><font color=\"black\"> ##라                    </font></mark><mark style=\"background-color: hsl(120, 75%, 97%); opacity:1.0;                     line-height:1.75\"><font color=\"black\"> 이러                    </font></mark><mark style=\"background-color: hsl(120, 75%, 79%); opacity:1.0;                     line-height:1.75\"><font color=\"black\"> 마세요                    </font></mark><mark style=\"background-color: hsl(0, 75%, 100%); opacity:1.0;                     line-height:1.75\"><font color=\"black\"> [SEP]                    </font></mark></td><tr></table>"
            ],
            "text/plain": [
              "<IPython.core.display.HTML object>"
            ]
          },
          "metadata": {}
        }
      ]
    },
    {
      "cell_type": "markdown",
      "source": [
        "## 6. 리더보드용 데이터 test.json 예측"
      ],
      "metadata": {
        "id": "cP_t_QBT0B5l"
      },
      "id": "cP_t_QBT0B5l"
    },
    {
      "cell_type": "markdown",
      "source": [
        "리더보드용 데이터인 test.json 파일을 불러와서 앞서 훈련 데이터에서 적용된 전처리를 동일하게 해줍니다."
      ],
      "metadata": {
        "id": "ZFk8Gi9I-QG2"
      },
      "id": "ZFk8Gi9I-QG2"
    },
    {
      "cell_type": "code",
      "source": [
        "import re\n",
        "import pandas as pd\n",
        "from copy import deepcopy\n",
        "\n",
        "\n",
        "def remove_punctuation(x):\n",
        "  x = re.sub(\"[^ㄱ-ㅎ가-힣0-9]+\", \" \", x)\n",
        "  x = re.sub(\"[ ]+\", \" \", x)\n",
        "  x = x.strip()\n",
        "  return x\n",
        "\n",
        "test_path = \"../../data/TUNiB/test.json\"\n",
        "test_set = pd.DataFrame()\n",
        "test_set[\"text\"] = pd.read_json(test_path).T[\"text\"]\n",
        "test_set.head()"
      ],
      "metadata": {
        "id": "nuYOIp31_Sl8",
        "colab": {
          "base_uri": "https://localhost:8080/",
          "height": 206
        },
        "outputId": "447f4305-8057-417c-86dc-dcfe35e1222b"
      },
      "id": "nuYOIp31_Sl8",
      "execution_count": null,
      "outputs": [
        {
          "output_type": "execute_result",
          "data": {
            "text/html": [
              "\n",
              "  <div id=\"df-892e625c-5c50-4609-b434-300f5ad785bb\">\n",
              "    <div class=\"colab-df-container\">\n",
              "      <div>\n",
              "<style scoped>\n",
              "    .dataframe tbody tr th:only-of-type {\n",
              "        vertical-align: middle;\n",
              "    }\n",
              "\n",
              "    .dataframe tbody tr th {\n",
              "        vertical-align: top;\n",
              "    }\n",
              "\n",
              "    .dataframe thead th {\n",
              "        text-align: right;\n",
              "    }\n",
              "</style>\n",
              "<table border=\"1\" class=\"dataframe\">\n",
              "  <thead>\n",
              "    <tr style=\"text-align: right;\">\n",
              "      <th></th>\n",
              "      <th>text</th>\n",
              "    </tr>\n",
              "  </thead>\n",
              "  <tbody>\n",
              "    <tr>\n",
              "      <th>t_000</th>\n",
              "      <td>아가씨 담배한갑주소 네 4500원입니다 어 네 지갑어디갔지 에이 버스에서 잃어버렸나...</td>\n",
              "    </tr>\n",
              "    <tr>\n",
              "      <th>t_001</th>\n",
              "      <td>우리팀에서 다른팀으로 갈 사람 없나? 그럼 영지씨가 가는건 어때?  네? 제가요? ...</td>\n",
              "    </tr>\n",
              "    <tr>\n",
              "      <th>t_002</th>\n",
              "      <td>너 오늘 그게 뭐야 네 제가 뭘 잘못했나요.? 제대로 좀 하지 네 똑바로 좀 하지 ...</td>\n",
              "    </tr>\n",
              "    <tr>\n",
              "      <th>t_003</th>\n",
              "      <td>이거 들어바 와 이 노래 진짜 좋다 그치 요즘 이 것만 들어 진짜 너무 좋다 내가 ...</td>\n",
              "    </tr>\n",
              "    <tr>\n",
              "      <th>t_004</th>\n",
              "      <td>아무튼 앞으로 니가 내 와이파이야. .응 와이파이 온. 켰어. 반말? 주인님이라고도...</td>\n",
              "    </tr>\n",
              "  </tbody>\n",
              "</table>\n",
              "</div>\n",
              "      <button class=\"colab-df-convert\" onclick=\"convertToInteractive('df-892e625c-5c50-4609-b434-300f5ad785bb')\"\n",
              "              title=\"Convert this dataframe to an interactive table.\"\n",
              "              style=\"display:none;\">\n",
              "        \n",
              "  <svg xmlns=\"http://www.w3.org/2000/svg\" height=\"24px\"viewBox=\"0 0 24 24\"\n",
              "       width=\"24px\">\n",
              "    <path d=\"M0 0h24v24H0V0z\" fill=\"none\"/>\n",
              "    <path d=\"M18.56 5.44l.94 2.06.94-2.06 2.06-.94-2.06-.94-.94-2.06-.94 2.06-2.06.94zm-11 1L8.5 8.5l.94-2.06 2.06-.94-2.06-.94L8.5 2.5l-.94 2.06-2.06.94zm10 10l.94 2.06.94-2.06 2.06-.94-2.06-.94-.94-2.06-.94 2.06-2.06.94z\"/><path d=\"M17.41 7.96l-1.37-1.37c-.4-.4-.92-.59-1.43-.59-.52 0-1.04.2-1.43.59L10.3 9.45l-7.72 7.72c-.78.78-.78 2.05 0 2.83L4 21.41c.39.39.9.59 1.41.59.51 0 1.02-.2 1.41-.59l7.78-7.78 2.81-2.81c.8-.78.8-2.07 0-2.86zM5.41 20L4 18.59l7.72-7.72 1.47 1.35L5.41 20z\"/>\n",
              "  </svg>\n",
              "      </button>\n",
              "      \n",
              "  <style>\n",
              "    .colab-df-container {\n",
              "      display:flex;\n",
              "      flex-wrap:wrap;\n",
              "      gap: 12px;\n",
              "    }\n",
              "\n",
              "    .colab-df-convert {\n",
              "      background-color: #E8F0FE;\n",
              "      border: none;\n",
              "      border-radius: 50%;\n",
              "      cursor: pointer;\n",
              "      display: none;\n",
              "      fill: #1967D2;\n",
              "      height: 32px;\n",
              "      padding: 0 0 0 0;\n",
              "      width: 32px;\n",
              "    }\n",
              "\n",
              "    .colab-df-convert:hover {\n",
              "      background-color: #E2EBFA;\n",
              "      box-shadow: 0px 1px 2px rgba(60, 64, 67, 0.3), 0px 1px 3px 1px rgba(60, 64, 67, 0.15);\n",
              "      fill: #174EA6;\n",
              "    }\n",
              "\n",
              "    [theme=dark] .colab-df-convert {\n",
              "      background-color: #3B4455;\n",
              "      fill: #D2E3FC;\n",
              "    }\n",
              "\n",
              "    [theme=dark] .colab-df-convert:hover {\n",
              "      background-color: #434B5C;\n",
              "      box-shadow: 0px 1px 3px 1px rgba(0, 0, 0, 0.15);\n",
              "      filter: drop-shadow(0px 1px 2px rgba(0, 0, 0, 0.3));\n",
              "      fill: #FFFFFF;\n",
              "    }\n",
              "  </style>\n",
              "\n",
              "      <script>\n",
              "        const buttonEl =\n",
              "          document.querySelector('#df-892e625c-5c50-4609-b434-300f5ad785bb button.colab-df-convert');\n",
              "        buttonEl.style.display =\n",
              "          google.colab.kernel.accessAllowed ? 'block' : 'none';\n",
              "\n",
              "        async function convertToInteractive(key) {\n",
              "          const element = document.querySelector('#df-892e625c-5c50-4609-b434-300f5ad785bb');\n",
              "          const dataTable =\n",
              "            await google.colab.kernel.invokeFunction('convertToInteractive',\n",
              "                                                     [key], {});\n",
              "          if (!dataTable) return;\n",
              "\n",
              "          const docLinkHtml = 'Like what you see? Visit the ' +\n",
              "            '<a target=\"_blank\" href=https://colab.research.google.com/notebooks/data_table.ipynb>data table notebook</a>'\n",
              "            + ' to learn more about interactive tables.';\n",
              "          element.innerHTML = '';\n",
              "          dataTable['output_type'] = 'display_data';\n",
              "          await google.colab.output.renderOutput(dataTable, element);\n",
              "          const docLink = document.createElement('div');\n",
              "          docLink.innerHTML = docLinkHtml;\n",
              "          element.appendChild(docLink);\n",
              "        }\n",
              "      </script>\n",
              "    </div>\n",
              "  </div>\n",
              "  "
            ],
            "text/plain": [
              "                                                    text\n",
              "t_000  아가씨 담배한갑주소 네 4500원입니다 어 네 지갑어디갔지 에이 버스에서 잃어버렸나...\n",
              "t_001  우리팀에서 다른팀으로 갈 사람 없나? 그럼 영지씨가 가는건 어때?  네? 제가요? ...\n",
              "t_002  너 오늘 그게 뭐야 네 제가 뭘 잘못했나요.? 제대로 좀 하지 네 똑바로 좀 하지 ...\n",
              "t_003  이거 들어바 와 이 노래 진짜 좋다 그치 요즘 이 것만 들어 진짜 너무 좋다 내가 ...\n",
              "t_004  아무튼 앞으로 니가 내 와이파이야. .응 와이파이 온. 켰어. 반말? 주인님이라고도..."
            ]
          },
          "metadata": {},
          "execution_count": 153
        }
      ]
    },
    {
      "cell_type": "code",
      "source": [
        "from glob import glob\n",
        "from copy import deepcopy\n",
        "from collections import Counter\n",
        "from transformers import AutoTokenizer, TFAutoModelForSequenceClassification\n",
        "from transformers import TextClassificationPipeline\n",
        "\n",
        "\n",
        "model_path = path\n",
        "print(f\"{model_path} 추론...\")\n",
        "loaded_tokenizer = AutoTokenizer.from_pretrained(model_path)\n",
        "loaded_model = TFAutoModelForSequenceClassification.from_pretrained(model_path)\n",
        "\n",
        "# BERT\n",
        "text_classifier = TextClassificationPipeline(\n",
        "    tokenizer=loaded_tokenizer, \n",
        "    model=loaded_model, \n",
        "    framework='tf',\n",
        "    return_all_scores=True\n",
        ")\n",
        "\n",
        "tqdm.pandas()\n",
        "tmp = test_set[\"text\"].progress_apply(lambda x : text_classifier(x))\n",
        "tmp = tmp.apply(lambda x : x[0])\n",
        "tmp = tmp.apply(lambda y : list(map(lambda x : x[\"score\"], y)))\n",
        "test_set[\"class\"] = tmp\n",
        "test_set[\"label_class\"] = test_set[\"class\"].apply(lambda x : np.argmax(x))\n",
        "labels = pd.DataFrame(tmp.tolist()).add_prefix(\"label_\")\n",
        "labels.index = test_set.index\n",
        "test_set = pd.concat([test_set, labels], axis = 1)\n",
        "Counter(test_set[\"label_class\"])"
      ],
      "metadata": {
        "id": "0BBnzS4K5eXA",
        "colab": {
          "base_uri": "https://localhost:8080/"
        },
        "outputId": "1b4a52c0-1a1c-4839-ae2a-9ba9ae7f24f6"
      },
      "id": "0BBnzS4K5eXA",
      "execution_count": null,
      "outputs": [
        {
          "output_type": "stream",
          "name": "stdout",
          "text": [
            "./model/2022_03_07_5000_summary_sound_epoch1_model/.-model-output_bert- 추론...\n"
          ]
        },
        {
          "output_type": "stream",
          "name": "stderr",
          "text": [
            "Some layers from the model checkpoint at ./model/2022_03_07_5000_summary_sound_epoch1_model/.-model-output_bert- were not used when initializing TFBertForSequenceClassification: ['dropout_835']\n",
            "- This IS expected if you are initializing TFBertForSequenceClassification from the checkpoint of a model trained on another task or with another architecture (e.g. initializing a BertForSequenceClassification model from a BertForPreTraining model).\n",
            "- This IS NOT expected if you are initializing TFBertForSequenceClassification from the checkpoint of a model that you expect to be exactly identical (initializing a BertForSequenceClassification model from a BertForSequenceClassification model).\n",
            "All the layers of TFBertForSequenceClassification were initialized from the model checkpoint at ./model/2022_03_07_5000_summary_sound_epoch1_model/.-model-output_bert-.\n",
            "If your task is similar to the task the model of the checkpoint was trained on, you can already use TFBertForSequenceClassification for predictions without further training.\n",
            "100%|██████████| 500/500 [04:19<00:00,  1.93it/s]\n"
          ]
        },
        {
          "output_type": "execute_result",
          "data": {
            "text/plain": [
              "Counter({0: 94, 1: 120, 2: 112, 3: 96, 4: 78})"
            ]
          },
          "metadata": {},
          "execution_count": 154
        }
      ]
    },
    {
      "cell_type": "markdown",
      "source": [
        "## 8. Submission 제출 코드"
      ],
      "metadata": {
        "id": "DzC5H1hz9v-i"
      },
      "id": "DzC5H1hz9v-i"
    },
    {
      "cell_type": "code",
      "source": [
        "indexes = test_set.index\n",
        "\n",
        "answer = defaultdict()\n",
        "tmp = defaultdict()\n",
        "for idx, case in enumerate(indexes):\n",
        "  tmp = str(0) + str(test_set[\"label_class\"][idx])\n",
        "  answer[case] = dict({\"class\":tmp})\n",
        "answer = dict(answer)\n",
        "list(answer.items())[:10]"
      ],
      "metadata": {
        "id": "LQnL3aDHFgwG",
        "colab": {
          "base_uri": "https://localhost:8080/"
        },
        "outputId": "bc5e1c0f-04aa-48fa-de6e-bc9f6f7f57f9"
      },
      "id": "LQnL3aDHFgwG",
      "execution_count": null,
      "outputs": [
        {
          "output_type": "execute_result",
          "data": {
            "text/plain": [
              "[('t_000', {'class': '01'}),\n",
              " ('t_001', {'class': '02'}),\n",
              " ('t_002', {'class': '02'}),\n",
              " ('t_003', {'class': '04'}),\n",
              " ('t_004', {'class': '04'}),\n",
              " ('t_005', {'class': '00'}),\n",
              " ('t_006', {'class': '00'}),\n",
              " ('t_007', {'class': '01'}),\n",
              " ('t_008', {'class': '04'}),\n",
              " ('t_009', {'class': '01'})]"
            ]
          },
          "metadata": {},
          "execution_count": 160
        }
      ]
    },
    {
      "cell_type": "code",
      "source": [
        "test_set[test_set[\"label_class\"] == 4].to_csv(\"./tmp.csv\")"
      ],
      "metadata": {
        "id": "WGjetqzv2uhQ"
      },
      "id": "WGjetqzv2uhQ",
      "execution_count": null,
      "outputs": []
    },
    {
      "cell_type": "code",
      "source": [
        "import json\n",
        "\n",
        "with open('./submission/submission_0307_epoch1.json', 'w') as fp:\n",
        "    json.dump(answer, fp)"
      ],
      "metadata": {
        "id": "oTPzNAdRHTN2"
      },
      "id": "oTPzNAdRHTN2",
      "execution_count": null,
      "outputs": []
    },
    {
      "cell_type": "code",
      "source": [
        "ls ./submission"
      ],
      "metadata": {
        "id": "IrgzLZDbUhIf",
        "colab": {
          "base_uri": "https://localhost:8080/"
        },
        "outputId": "81a9d0c9-5ff6-4671-b58e-bb11af565ef6"
      },
      "id": "IrgzLZDbUhIf",
      "execution_count": null,
      "outputs": [
        {
          "output_type": "stream",
          "name": "stdout",
          "text": [
            "answersheet.json\n",
            "epoch3_bert_lr_05.json\n",
            "lstm_gpt_bert.json\n",
            "no_normal_bert_answer.json\n",
            "roberta_answer.json\n",
            "submission_0224.json\n",
            "submission_0228_bert_valratio001_runmlm.json\n",
            "submission_0302_bert_valratio001_runmlm_no_bt_epoch2.json\n",
            "submission_0303_bert_valratio001_runmlm_bt_epoch2_eco_taek.json\n",
            "submission_0304_runmlm_bt_epoch2.json\n",
            "submission_0305_epoch2.json\n",
            "submission_0305_epoch4.json\n"
          ]
        }
      ]
    }
  ],
  "metadata": {
    "kernelspec": {
      "display_name": "Python 3",
      "language": "python",
      "name": "python3"
    },
    "language_info": {
      "codemirror_mode": {
        "name": "ipython",
        "version": 3
      },
      "file_extension": ".py",
      "mimetype": "text/x-python",
      "name": "python",
      "nbconvert_exporter": "python",
      "pygments_lexer": "ipython3",
      "version": "3.7.9"
    },
    "colab": {
      "name": "last_experiment.ipynb",
      "provenance": [],
      "collapsed_sections": [
        "n7C236xgpKES",
        "executive-tumor",
        "YSfkbxNodTU-",
        "LGnVrUzRdZCX",
        "rWcWSHaTdoiU",
        "w7Fmk8Z_ddet"
      ],
      "machine_shape": "hm",
      "include_colab_link": true
    },
    "accelerator": "TPU"
  },
  "nbformat": 4,
  "nbformat_minor": 5
}