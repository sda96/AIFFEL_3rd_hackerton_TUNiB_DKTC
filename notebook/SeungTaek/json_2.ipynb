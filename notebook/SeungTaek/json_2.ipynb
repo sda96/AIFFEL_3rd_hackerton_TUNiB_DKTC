{
  "nbformat": 4,
  "nbformat_minor": 0,
  "metadata": {
    "colab": {
      "name": "json_2.ipynb",
      "provenance": [],
      "machine_shape": "hm",
      "collapsed_sections": [],
      "authorship_tag": "ABX9TyMqJKsqEBMgT5AwQP76zqFn",
      "include_colab_link": true
    },
    "kernelspec": {
      "name": "python3",
      "display_name": "Python 3"
    },
    "language_info": {
      "name": "python"
    }
  },
  "cells": [
    {
      "cell_type": "markdown",
      "metadata": {
        "id": "view-in-github",
        "colab_type": "text"
      },
      "source": [
        "<a href=\"https://colab.research.google.com/github/sda96/AIFFEL_3rd_hackerton_TUNiB_DKTC/blob/main/notebook/SeungTaek/json_2.ipynb\" target=\"_parent\"><img src=\"https://colab.research.google.com/assets/colab-badge.svg\" alt=\"Open In Colab\"/></a>"
      ]
    },
    {
      "cell_type": "code",
      "source": [
        "import pandas as pd # pandas 모듈 로드\n",
        "import json  # json 모듈 로드\n",
        "import re\n",
        "import os\n",
        "from glob import glob\n",
        "from tqdm import tqdm\n",
        "from google.colab import drive\n",
        "import zipfile"
      ],
      "metadata": {
        "id": "j93fl53sYvqq"
      },
      "execution_count": null,
      "outputs": []
    },
    {
      "cell_type": "code",
      "source": [
        "drive.mount(\"/content/drive\")"
      ],
      "metadata": {
        "colab": {
          "base_uri": "https://localhost:8080/"
        },
        "id": "Ll46bsQaKVBS",
        "outputId": "c3b084eb-5707-4da3-955c-95ebd0ac0174"
      },
      "execution_count": null,
      "outputs": [
        {
          "output_type": "stream",
          "name": "stdout",
          "text": [
            "Drive already mounted at /content/drive; to attempt to forcibly remount, call drive.mount(\"/content/drive\", force_remount=True).\n"
          ]
        }
      ]
    },
    {
      "cell_type": "code",
      "source": [
        "data_path = \"/content/drive/MyDrive/AIFFEL/Training\"\n",
        "files = glob(data_path + \"/*.zip\")\n",
        "files"
      ],
      "metadata": {
        "id": "tCy5mS3fUyyc"
      },
      "execution_count": null,
      "outputs": []
    },
    {
      "cell_type": "code",
      "source": [
        "for i in tqdm(files):\n",
        "    zipfile.ZipFile(i).extractall()\n"
      ],
      "metadata": {
        "colab": {
          "base_uri": "https://localhost:8080/"
        },
        "id": "RdXBA-9XXh3L",
        "outputId": "5dc64136-2408-45a3-d2c6-a0280ca79032"
      },
      "execution_count": null,
      "outputs": [
        {
          "output_type": "stream",
          "name": "stderr",
          "text": [
            "100%|██████████| 15/15 [04:31<00:00, 18.13s/it]\n"
          ]
        }
      ]
    },
    {
      "cell_type": "code",
      "source": [
        "txt_path = \"/content\"\n",
        "txt_files = glob(txt_path + \"/*/G02/*/*.json\")\n",
        "txt_files"
      ],
      "metadata": {
        "id": "LyTmf4p6bNMJ"
      },
      "execution_count": null,
      "outputs": []
    },
    {
      "cell_type": "code",
      "source": [
        "with open(\"/content/D20/G02/S000600/S000600.json\", \"r\") as f:\n",
        "    dict = json.load(f)\n",
        "dict[\"dataSet\"][\"typeInfo\"][\"category\"]"
      ],
      "metadata": {
        "colab": {
          "base_uri": "https://localhost:8080/",
          "height": 36
        },
        "id": "GaHI_jGGc3i9",
        "outputId": "beda86bb-a3e1-45dc-efb8-d72e21bf71c4"
      },
      "execution_count": null,
      "outputs": [
        {
          "output_type": "execute_result",
          "data": {
            "application/vnd.google.colaboratory.intrinsic+json": {
              "type": "string"
            },
            "text/plain": [
              "'교육'"
            ]
          },
          "metadata": {},
          "execution_count": 46
        }
      ]
    },
    {
      "cell_type": "code",
      "source": [
        "bucket_text = []\n",
        "for json_file in tqdm(txt_files):\n",
        "    with open(json_file, \"r\") as f:\n",
        "        data_dict = json.load(f)\n",
        "        category = data_dict[\"dataSet\"][\"typeInfo\"][\"category\"]\n",
        "        bucket_text.append(category)\n",
        "\n",
        "bucket_text = set(bucket_text)\n",
        "bucket_text"
      ],
      "metadata": {
        "colab": {
          "base_uri": "https://localhost:8080/"
        },
        "id": "AtDbDJCpZ6qH",
        "outputId": "9568a944-19ba-49f0-905b-20c2bb8a3815"
      },
      "execution_count": null,
      "outputs": [
        {
          "output_type": "stream",
          "name": "stderr",
          "text": [
            "100%|██████████| 4731/4731 [00:03<00:00, 1368.33it/s]\n"
          ]
        },
        {
          "output_type": "execute_result",
          "data": {
            "text/plain": [
              "{'IT', '가족', '교양', '교육', '금융', '문화예술', '시사', '토크'}"
            ]
          },
          "metadata": {},
          "execution_count": 97
        }
      ]
    },
    {
      "cell_type": "code",
      "source": [
        "bucket_text = []\n",
        "for json_file in tqdm(txt_files):\n",
        "    with open(json_file, \"r\") as f:\n",
        "        data_dict = json.load(f)\n",
        "        category = data_dict[\"dataSet\"][\"typeInfo\"][\"category\"]\n",
        "        if category == \"시사\":\n",
        "            bucket_text.append(json_file)\n",
        "bucket_text[:5]"
      ],
      "metadata": {
        "colab": {
          "base_uri": "https://localhost:8080/"
        },
        "id": "vMEahlpTZgVo",
        "outputId": "2b182696-fea7-49ab-f194-e1ee27178d13"
      },
      "execution_count": null,
      "outputs": [
        {
          "output_type": "stream",
          "name": "stderr",
          "text": [
            "100%|██████████| 4731/4731 [00:02<00:00, 1691.82it/s]\n"
          ]
        },
        {
          "output_type": "execute_result",
          "data": {
            "text/plain": [
              "['/content/D25/G02/S000145/S000145.json',\n",
              " '/content/D25/G02/S000390/S000390.json',\n",
              " '/content/D25/G02/S000462/S000462.json',\n",
              " '/content/D25/G02/S000093/S000093.json',\n",
              " '/content/D25/G02/S000552/S000552.json']"
            ]
          },
          "metadata": {},
          "execution_count": 131
        }
      ]
    },
    {
      "cell_type": "code",
      "source": [
        "folder_path = \"/content/D25/G02\"\n",
        "folders = glob(folder_path + \"/*\")\n",
        "folders[:5]"
      ],
      "metadata": {
        "colab": {
          "base_uri": "https://localhost:8080/"
        },
        "id": "UrTJy6mcSbDz",
        "outputId": "3a170678-7b6a-49fd-beb2-f5f6dece82f2"
      },
      "execution_count": null,
      "outputs": [
        {
          "output_type": "execute_result",
          "data": {
            "text/plain": [
              "['/content/D25/G02/S000145',\n",
              " '/content/D25/G02/S000390',\n",
              " '/content/D25/G02/S000462',\n",
              " '/content/D25/G02/S000093',\n",
              " '/content/D25/G02/S000552']"
            ]
          },
          "metadata": {},
          "execution_count": 132
        }
      ]
    },
    {
      "cell_type": "code",
      "source": [
        "txt_files_24 = []\n",
        "for i in folders:\n",
        "    b = glob(i + \"/*.txt\")\n",
        "    txt_files_24.append(b)"
      ],
      "metadata": {
        "id": "uxpCEZC4S8T3"
      },
      "execution_count": null,
      "outputs": []
    },
    {
      "cell_type": "code",
      "source": [
        "def list_chunk(lst, n):\n",
        "    return [lst[i:i+n] for i in range(0, len(lst), n)]"
      ],
      "metadata": {
        "id": "l46AZRrXP2bU"
      },
      "execution_count": null,
      "outputs": []
    },
    {
      "cell_type": "code",
      "source": [
        "sentence = []\n",
        "for i in tqdm(txt_files_24):\n",
        "    a = []\n",
        "    for txt_file in i:\n",
        "        with open(txt_file, \"r\") as f:\n",
        "            lines = f.readline()\n",
        "            a.append(lines)\n",
        "    sentence.append(a)\n",
        "#sentence[:2]"
      ],
      "metadata": {
        "colab": {
          "base_uri": "https://localhost:8080/"
        },
        "id": "d77qrsDdj04P",
        "outputId": "32ad439e-c69e-4083-9cbe-02474642df81"
      },
      "execution_count": null,
      "outputs": [
        {
          "output_type": "stream",
          "name": "stderr",
          "text": [
            "100%|██████████| 538/538 [00:07<00:00, 70.52it/s]\n"
          ]
        }
      ]
    },
    {
      "cell_type": "code",
      "source": [
        "b = []\n",
        "for i in sentence:\n",
        "    new_list = list_chunk(i, 10)\n",
        "    b.append(new_list)\n",
        "c = []\n",
        "for i in b:\n",
        "    for j in i:\n",
        "        c.append(' '.join(j))\n"
      ],
      "metadata": {
        "id": "ZEC6wO47P4Y_"
      },
      "execution_count": null,
      "outputs": []
    },
    {
      "cell_type": "code",
      "source": [
        "df = pd.DataFrame(c)\n",
        "df[\"class\"] = \"일반 대화\"\n",
        "df = df.rename(columns = {0 : \"conversation\"})\n",
        "df = df[['class', 'conversation']]\n",
        "df = df.sample(n = 5000, random_state = 5)\n",
        "df"
      ],
      "metadata": {
        "colab": {
          "base_uri": "https://localhost:8080/",
          "height": 423
        },
        "id": "ePNhBpNWWhln",
        "outputId": "370605fe-606b-4da2-893f-4628ef2a646b"
      },
      "execution_count": null,
      "outputs": [
        {
          "output_type": "execute_result",
          "data": {
            "text/html": [
              "\n",
              "  <div id=\"df-fe7efbd4-fc7c-49b6-9db9-0d67097f0b4d\">\n",
              "    <div class=\"colab-df-container\">\n",
              "      <div>\n",
              "<style scoped>\n",
              "    .dataframe tbody tr th:only-of-type {\n",
              "        vertical-align: middle;\n",
              "    }\n",
              "\n",
              "    .dataframe tbody tr th {\n",
              "        vertical-align: top;\n",
              "    }\n",
              "\n",
              "    .dataframe thead th {\n",
              "        text-align: right;\n",
              "    }\n",
              "</style>\n",
              "<table border=\"1\" class=\"dataframe\">\n",
              "  <thead>\n",
              "    <tr style=\"text-align: right;\">\n",
              "      <th></th>\n",
              "      <th>class</th>\n",
              "      <th>conversation</th>\n",
              "    </tr>\n",
              "  </thead>\n",
              "  <tbody>\n",
              "    <tr>\n",
              "      <th>10544</th>\n",
              "      <td>일반 대화</td>\n",
              "      <td>n/ 에/ 팔십년대 말에 세계 십대은행의 랭킹을 볼 것 같으면 일본계 은행이 여섯개...</td>\n",
              "    </tr>\n",
              "    <tr>\n",
              "      <th>12397</th>\n",
              "      <td>일반 대화</td>\n",
              "      <td>프린터 이런 제어하는, o/ 아/ 컴퓨터 조립이 n/ 쉽다고는 하지만 n/ (그래도...</td>\n",
              "    </tr>\n",
              "    <tr>\n",
              "      <th>8323</th>\n",
              "      <td>일반 대화</td>\n",
              "      <td>북한 민중하고 직접 접촉하면 국 국가보안법에 걸립니다. 그래서 그럴 순 없을 것 같...</td>\n",
              "    </tr>\n",
              "    <tr>\n",
              "      <th>23774</th>\n",
              "      <td>일반 대화</td>\n",
              "      <td>노사문제에 대해서 공권력이 전혀 개입을 안 합니다. 작년도 파업 당시에 (400여명...</td>\n",
              "    </tr>\n",
              "    <tr>\n",
              "      <th>16069</th>\n",
              "      <td>일반 대화</td>\n",
              "      <td>o/ 그리고 (hand phone)/(핸드폰) 문자 (message)/(메세지)에 ...</td>\n",
              "    </tr>\n",
              "    <tr>\n",
              "      <th>...</th>\n",
              "      <td>...</td>\n",
              "      <td>...</td>\n",
              "    </tr>\n",
              "    <tr>\n",
              "      <th>26423</th>\n",
              "      <td>일반 대화</td>\n",
              "      <td>아/ 그렇군요. 그래서 어/ 우려되는 점 또한 적지 않을 것 같은데요. 선생님께서 ...</td>\n",
              "    </tr>\n",
              "    <tr>\n",
              "      <th>25230</th>\n",
              "      <td>일반 대화</td>\n",
              "      <td>보시는 분들도 머리 아프실 것 같아요. 일반 시민들이나 o/ 충분히 좋은 의견들이 ...</td>\n",
              "    </tr>\n",
              "    <tr>\n",
              "      <th>5570</th>\n",
              "      <td>일반 대화</td>\n",
              "      <td>또 나도 언젠가는 또 사업주가 될 수도 있고 서로가 그런 입장을 바꿔보는 생각을 하...</td>\n",
              "    </tr>\n",
              "    <tr>\n",
              "      <th>29242</th>\n",
              "      <td>일반 대화</td>\n",
              "      <td>안 그래도 예산이 없어서 그런 시설 교육환경 개선을 전혀 하지 못하고 있고 있는데 ...</td>\n",
              "    </tr>\n",
              "    <tr>\n",
              "      <th>16625</th>\n",
              "      <td>일반 대화</td>\n",
              "      <td>(그러니까)/(까), o/ 맞은편에, n/ 교육 평가에 관해서 심도있는 연구를 해 ...</td>\n",
              "    </tr>\n",
              "  </tbody>\n",
              "</table>\n",
              "<p>5000 rows × 2 columns</p>\n",
              "</div>\n",
              "      <button class=\"colab-df-convert\" onclick=\"convertToInteractive('df-fe7efbd4-fc7c-49b6-9db9-0d67097f0b4d')\"\n",
              "              title=\"Convert this dataframe to an interactive table.\"\n",
              "              style=\"display:none;\">\n",
              "        \n",
              "  <svg xmlns=\"http://www.w3.org/2000/svg\" height=\"24px\"viewBox=\"0 0 24 24\"\n",
              "       width=\"24px\">\n",
              "    <path d=\"M0 0h24v24H0V0z\" fill=\"none\"/>\n",
              "    <path d=\"M18.56 5.44l.94 2.06.94-2.06 2.06-.94-2.06-.94-.94-2.06-.94 2.06-2.06.94zm-11 1L8.5 8.5l.94-2.06 2.06-.94-2.06-.94L8.5 2.5l-.94 2.06-2.06.94zm10 10l.94 2.06.94-2.06 2.06-.94-2.06-.94-.94-2.06-.94 2.06-2.06.94z\"/><path d=\"M17.41 7.96l-1.37-1.37c-.4-.4-.92-.59-1.43-.59-.52 0-1.04.2-1.43.59L10.3 9.45l-7.72 7.72c-.78.78-.78 2.05 0 2.83L4 21.41c.39.39.9.59 1.41.59.51 0 1.02-.2 1.41-.59l7.78-7.78 2.81-2.81c.8-.78.8-2.07 0-2.86zM5.41 20L4 18.59l7.72-7.72 1.47 1.35L5.41 20z\"/>\n",
              "  </svg>\n",
              "      </button>\n",
              "      \n",
              "  <style>\n",
              "    .colab-df-container {\n",
              "      display:flex;\n",
              "      flex-wrap:wrap;\n",
              "      gap: 12px;\n",
              "    }\n",
              "\n",
              "    .colab-df-convert {\n",
              "      background-color: #E8F0FE;\n",
              "      border: none;\n",
              "      border-radius: 50%;\n",
              "      cursor: pointer;\n",
              "      display: none;\n",
              "      fill: #1967D2;\n",
              "      height: 32px;\n",
              "      padding: 0 0 0 0;\n",
              "      width: 32px;\n",
              "    }\n",
              "\n",
              "    .colab-df-convert:hover {\n",
              "      background-color: #E2EBFA;\n",
              "      box-shadow: 0px 1px 2px rgba(60, 64, 67, 0.3), 0px 1px 3px 1px rgba(60, 64, 67, 0.15);\n",
              "      fill: #174EA6;\n",
              "    }\n",
              "\n",
              "    [theme=dark] .colab-df-convert {\n",
              "      background-color: #3B4455;\n",
              "      fill: #D2E3FC;\n",
              "    }\n",
              "\n",
              "    [theme=dark] .colab-df-convert:hover {\n",
              "      background-color: #434B5C;\n",
              "      box-shadow: 0px 1px 3px 1px rgba(0, 0, 0, 0.15);\n",
              "      filter: drop-shadow(0px 1px 2px rgba(0, 0, 0, 0.3));\n",
              "      fill: #FFFFFF;\n",
              "    }\n",
              "  </style>\n",
              "\n",
              "      <script>\n",
              "        const buttonEl =\n",
              "          document.querySelector('#df-fe7efbd4-fc7c-49b6-9db9-0d67097f0b4d button.colab-df-convert');\n",
              "        buttonEl.style.display =\n",
              "          google.colab.kernel.accessAllowed ? 'block' : 'none';\n",
              "\n",
              "        async function convertToInteractive(key) {\n",
              "          const element = document.querySelector('#df-fe7efbd4-fc7c-49b6-9db9-0d67097f0b4d');\n",
              "          const dataTable =\n",
              "            await google.colab.kernel.invokeFunction('convertToInteractive',\n",
              "                                                     [key], {});\n",
              "          if (!dataTable) return;\n",
              "\n",
              "          const docLinkHtml = 'Like what you see? Visit the ' +\n",
              "            '<a target=\"_blank\" href=https://colab.research.google.com/notebooks/data_table.ipynb>data table notebook</a>'\n",
              "            + ' to learn more about interactive tables.';\n",
              "          element.innerHTML = '';\n",
              "          dataTable['output_type'] = 'display_data';\n",
              "          await google.colab.output.renderOutput(dataTable, element);\n",
              "          const docLink = document.createElement('div');\n",
              "          docLink.innerHTML = docLinkHtml;\n",
              "          element.appendChild(docLink);\n",
              "        }\n",
              "      </script>\n",
              "    </div>\n",
              "  </div>\n",
              "  "
            ],
            "text/plain": [
              "       class                                       conversation\n",
              "10544  일반 대화  n/ 에/ 팔십년대 말에 세계 십대은행의 랭킹을 볼 것 같으면 일본계 은행이 여섯개...\n",
              "12397  일반 대화  프린터 이런 제어하는, o/ 아/ 컴퓨터 조립이 n/ 쉽다고는 하지만 n/ (그래도...\n",
              "8323   일반 대화  북한 민중하고 직접 접촉하면 국 국가보안법에 걸립니다. 그래서 그럴 순 없을 것 같...\n",
              "23774  일반 대화  노사문제에 대해서 공권력이 전혀 개입을 안 합니다. 작년도 파업 당시에 (400여명...\n",
              "16069  일반 대화  o/ 그리고 (hand phone)/(핸드폰) 문자 (message)/(메세지)에 ...\n",
              "...      ...                                                ...\n",
              "26423  일반 대화  아/ 그렇군요. 그래서 어/ 우려되는 점 또한 적지 않을 것 같은데요. 선생님께서 ...\n",
              "25230  일반 대화  보시는 분들도 머리 아프실 것 같아요. 일반 시민들이나 o/ 충분히 좋은 의견들이 ...\n",
              "5570   일반 대화  또 나도 언젠가는 또 사업주가 될 수도 있고 서로가 그런 입장을 바꿔보는 생각을 하...\n",
              "29242  일반 대화  안 그래도 예산이 없어서 그런 시설 교육환경 개선을 전혀 하지 못하고 있고 있는데 ...\n",
              "16625  일반 대화  (그러니까)/(까), o/ 맞은편에, n/ 교육 평가에 관해서 심도있는 연구를 해 ...\n",
              "\n",
              "[5000 rows x 2 columns]"
            ]
          },
          "metadata": {},
          "execution_count": 137
        }
      ]
    },
    {
      "cell_type": "code",
      "source": [
        "df.to_csv(\"/content/시사.csv\", header = True, index = False)"
      ],
      "metadata": {
        "id": "7nfK6XT5V8tN"
      },
      "execution_count": null,
      "outputs": []
    },
    {
      "cell_type": "code",
      "source": [
        "df2 = pd.read_csv(\"/content/시사.csv\")\n",
        "df2"
      ],
      "metadata": {
        "colab": {
          "base_uri": "https://localhost:8080/",
          "height": 423
        },
        "id": "8qmIqt6XWBHe",
        "outputId": "179f520a-c783-4bcb-99ed-a3cdb87c7aa1"
      },
      "execution_count": null,
      "outputs": [
        {
          "output_type": "execute_result",
          "data": {
            "text/html": [
              "\n",
              "  <div id=\"df-22422240-b886-49b4-8941-5080d285e5ce\">\n",
              "    <div class=\"colab-df-container\">\n",
              "      <div>\n",
              "<style scoped>\n",
              "    .dataframe tbody tr th:only-of-type {\n",
              "        vertical-align: middle;\n",
              "    }\n",
              "\n",
              "    .dataframe tbody tr th {\n",
              "        vertical-align: top;\n",
              "    }\n",
              "\n",
              "    .dataframe thead th {\n",
              "        text-align: right;\n",
              "    }\n",
              "</style>\n",
              "<table border=\"1\" class=\"dataframe\">\n",
              "  <thead>\n",
              "    <tr style=\"text-align: right;\">\n",
              "      <th></th>\n",
              "      <th>class</th>\n",
              "      <th>conversation</th>\n",
              "    </tr>\n",
              "  </thead>\n",
              "  <tbody>\n",
              "    <tr>\n",
              "      <th>0</th>\n",
              "      <td>일반 대화</td>\n",
              "      <td>n/ 에/ 팔십년대 말에 세계 십대은행의 랭킹을 볼 것 같으면 일본계 은행이 여섯개...</td>\n",
              "    </tr>\n",
              "    <tr>\n",
              "      <th>1</th>\n",
              "      <td>일반 대화</td>\n",
              "      <td>프린터 이런 제어하는, o/ 아/ 컴퓨터 조립이 n/ 쉽다고는 하지만 n/ (그래도...</td>\n",
              "    </tr>\n",
              "    <tr>\n",
              "      <th>2</th>\n",
              "      <td>일반 대화</td>\n",
              "      <td>북한 민중하고 직접 접촉하면 국 국가보안법에 걸립니다. 그래서 그럴 순 없을 것 같...</td>\n",
              "    </tr>\n",
              "    <tr>\n",
              "      <th>3</th>\n",
              "      <td>일반 대화</td>\n",
              "      <td>노사문제에 대해서 공권력이 전혀 개입을 안 합니다. 작년도 파업 당시에 (400여명...</td>\n",
              "    </tr>\n",
              "    <tr>\n",
              "      <th>4</th>\n",
              "      <td>일반 대화</td>\n",
              "      <td>o/ 그리고 (hand phone)/(핸드폰) 문자 (message)/(메세지)에 ...</td>\n",
              "    </tr>\n",
              "    <tr>\n",
              "      <th>...</th>\n",
              "      <td>...</td>\n",
              "      <td>...</td>\n",
              "    </tr>\n",
              "    <tr>\n",
              "      <th>4995</th>\n",
              "      <td>일반 대화</td>\n",
              "      <td>아/ 그렇군요. 그래서 어/ 우려되는 점 또한 적지 않을 것 같은데요. 선생님께서 ...</td>\n",
              "    </tr>\n",
              "    <tr>\n",
              "      <th>4996</th>\n",
              "      <td>일반 대화</td>\n",
              "      <td>보시는 분들도 머리 아프실 것 같아요. 일반 시민들이나 o/ 충분히 좋은 의견들이 ...</td>\n",
              "    </tr>\n",
              "    <tr>\n",
              "      <th>4997</th>\n",
              "      <td>일반 대화</td>\n",
              "      <td>또 나도 언젠가는 또 사업주가 될 수도 있고 서로가 그런 입장을 바꿔보는 생각을 하...</td>\n",
              "    </tr>\n",
              "    <tr>\n",
              "      <th>4998</th>\n",
              "      <td>일반 대화</td>\n",
              "      <td>안 그래도 예산이 없어서 그런 시설 교육환경 개선을 전혀 하지 못하고 있고 있는데 ...</td>\n",
              "    </tr>\n",
              "    <tr>\n",
              "      <th>4999</th>\n",
              "      <td>일반 대화</td>\n",
              "      <td>(그러니까)/(까), o/ 맞은편에, n/ 교육 평가에 관해서 심도있는 연구를 해 ...</td>\n",
              "    </tr>\n",
              "  </tbody>\n",
              "</table>\n",
              "<p>5000 rows × 2 columns</p>\n",
              "</div>\n",
              "      <button class=\"colab-df-convert\" onclick=\"convertToInteractive('df-22422240-b886-49b4-8941-5080d285e5ce')\"\n",
              "              title=\"Convert this dataframe to an interactive table.\"\n",
              "              style=\"display:none;\">\n",
              "        \n",
              "  <svg xmlns=\"http://www.w3.org/2000/svg\" height=\"24px\"viewBox=\"0 0 24 24\"\n",
              "       width=\"24px\">\n",
              "    <path d=\"M0 0h24v24H0V0z\" fill=\"none\"/>\n",
              "    <path d=\"M18.56 5.44l.94 2.06.94-2.06 2.06-.94-2.06-.94-.94-2.06-.94 2.06-2.06.94zm-11 1L8.5 8.5l.94-2.06 2.06-.94-2.06-.94L8.5 2.5l-.94 2.06-2.06.94zm10 10l.94 2.06.94-2.06 2.06-.94-2.06-.94-.94-2.06-.94 2.06-2.06.94z\"/><path d=\"M17.41 7.96l-1.37-1.37c-.4-.4-.92-.59-1.43-.59-.52 0-1.04.2-1.43.59L10.3 9.45l-7.72 7.72c-.78.78-.78 2.05 0 2.83L4 21.41c.39.39.9.59 1.41.59.51 0 1.02-.2 1.41-.59l7.78-7.78 2.81-2.81c.8-.78.8-2.07 0-2.86zM5.41 20L4 18.59l7.72-7.72 1.47 1.35L5.41 20z\"/>\n",
              "  </svg>\n",
              "      </button>\n",
              "      \n",
              "  <style>\n",
              "    .colab-df-container {\n",
              "      display:flex;\n",
              "      flex-wrap:wrap;\n",
              "      gap: 12px;\n",
              "    }\n",
              "\n",
              "    .colab-df-convert {\n",
              "      background-color: #E8F0FE;\n",
              "      border: none;\n",
              "      border-radius: 50%;\n",
              "      cursor: pointer;\n",
              "      display: none;\n",
              "      fill: #1967D2;\n",
              "      height: 32px;\n",
              "      padding: 0 0 0 0;\n",
              "      width: 32px;\n",
              "    }\n",
              "\n",
              "    .colab-df-convert:hover {\n",
              "      background-color: #E2EBFA;\n",
              "      box-shadow: 0px 1px 2px rgba(60, 64, 67, 0.3), 0px 1px 3px 1px rgba(60, 64, 67, 0.15);\n",
              "      fill: #174EA6;\n",
              "    }\n",
              "\n",
              "    [theme=dark] .colab-df-convert {\n",
              "      background-color: #3B4455;\n",
              "      fill: #D2E3FC;\n",
              "    }\n",
              "\n",
              "    [theme=dark] .colab-df-convert:hover {\n",
              "      background-color: #434B5C;\n",
              "      box-shadow: 0px 1px 3px 1px rgba(0, 0, 0, 0.15);\n",
              "      filter: drop-shadow(0px 1px 2px rgba(0, 0, 0, 0.3));\n",
              "      fill: #FFFFFF;\n",
              "    }\n",
              "  </style>\n",
              "\n",
              "      <script>\n",
              "        const buttonEl =\n",
              "          document.querySelector('#df-22422240-b886-49b4-8941-5080d285e5ce button.colab-df-convert');\n",
              "        buttonEl.style.display =\n",
              "          google.colab.kernel.accessAllowed ? 'block' : 'none';\n",
              "\n",
              "        async function convertToInteractive(key) {\n",
              "          const element = document.querySelector('#df-22422240-b886-49b4-8941-5080d285e5ce');\n",
              "          const dataTable =\n",
              "            await google.colab.kernel.invokeFunction('convertToInteractive',\n",
              "                                                     [key], {});\n",
              "          if (!dataTable) return;\n",
              "\n",
              "          const docLinkHtml = 'Like what you see? Visit the ' +\n",
              "            '<a target=\"_blank\" href=https://colab.research.google.com/notebooks/data_table.ipynb>data table notebook</a>'\n",
              "            + ' to learn more about interactive tables.';\n",
              "          element.innerHTML = '';\n",
              "          dataTable['output_type'] = 'display_data';\n",
              "          await google.colab.output.renderOutput(dataTable, element);\n",
              "          const docLink = document.createElement('div');\n",
              "          docLink.innerHTML = docLinkHtml;\n",
              "          element.appendChild(docLink);\n",
              "        }\n",
              "      </script>\n",
              "    </div>\n",
              "  </div>\n",
              "  "
            ],
            "text/plain": [
              "      class                                       conversation\n",
              "0     일반 대화  n/ 에/ 팔십년대 말에 세계 십대은행의 랭킹을 볼 것 같으면 일본계 은행이 여섯개...\n",
              "1     일반 대화  프린터 이런 제어하는, o/ 아/ 컴퓨터 조립이 n/ 쉽다고는 하지만 n/ (그래도...\n",
              "2     일반 대화  북한 민중하고 직접 접촉하면 국 국가보안법에 걸립니다. 그래서 그럴 순 없을 것 같...\n",
              "3     일반 대화  노사문제에 대해서 공권력이 전혀 개입을 안 합니다. 작년도 파업 당시에 (400여명...\n",
              "4     일반 대화  o/ 그리고 (hand phone)/(핸드폰) 문자 (message)/(메세지)에 ...\n",
              "...     ...                                                ...\n",
              "4995  일반 대화  아/ 그렇군요. 그래서 어/ 우려되는 점 또한 적지 않을 것 같은데요. 선생님께서 ...\n",
              "4996  일반 대화  보시는 분들도 머리 아프실 것 같아요. 일반 시민들이나 o/ 충분히 좋은 의견들이 ...\n",
              "4997  일반 대화  또 나도 언젠가는 또 사업주가 될 수도 있고 서로가 그런 입장을 바꿔보는 생각을 하...\n",
              "4998  일반 대화  안 그래도 예산이 없어서 그런 시설 교육환경 개선을 전혀 하지 못하고 있고 있는데 ...\n",
              "4999  일반 대화  (그러니까)/(까), o/ 맞은편에, n/ 교육 평가에 관해서 심도있는 연구를 해 ...\n",
              "\n",
              "[5000 rows x 2 columns]"
            ]
          },
          "metadata": {},
          "execution_count": 139
        }
      ]
    },
    {
      "cell_type": "code",
      "source": [
        ""
      ],
      "metadata": {
        "id": "_O_qWxr5lMya"
      },
      "execution_count": null,
      "outputs": []
    }
  ]
}